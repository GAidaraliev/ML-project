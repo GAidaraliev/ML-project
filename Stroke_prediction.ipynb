{
 "cells": [
  {
   "cell_type": "code",
   "execution_count": null,
   "id": "f7bd42c8",
   "metadata": {},
   "outputs": [],
   "source": [
    "pip install -r requirements.txt"
   ]
  },
  {
   "cell_type": "markdown",
   "id": "caf4178c",
   "metadata": {},
   "source": [
    "# 1. EDA"
   ]
  },
  {
   "cell_type": "code",
   "execution_count": 1,
   "id": "776f2817",
   "metadata": {},
   "outputs": [],
   "source": [
    "import numpy as np\n",
    "import pandas as pd\n",
    "import matplotlib.pyplot as plt\n",
    "import seaborn as sns\n",
    "%matplotlib inline"
   ]
  },
  {
   "cell_type": "code",
   "execution_count": 2,
   "id": "e56b81be",
   "metadata": {},
   "outputs": [],
   "source": [
    "df = pd.read_csv('/stroke_data.csv')"
   ]
  },
  {
   "cell_type": "code",
   "execution_count": 3,
   "id": "51677123",
   "metadata": {},
   "outputs": [
    {
     "data": {
      "text/html": [
       "<div>\n",
       "<style scoped>\n",
       "    .dataframe tbody tr th:only-of-type {\n",
       "        vertical-align: middle;\n",
       "    }\n",
       "\n",
       "    .dataframe tbody tr th {\n",
       "        vertical-align: top;\n",
       "    }\n",
       "\n",
       "    .dataframe thead th {\n",
       "        text-align: right;\n",
       "    }\n",
       "</style>\n",
       "<table border=\"1\" class=\"dataframe\">\n",
       "  <thead>\n",
       "    <tr style=\"text-align: right;\">\n",
       "      <th></th>\n",
       "      <th>id</th>\n",
       "      <th>gender</th>\n",
       "      <th>age</th>\n",
       "      <th>hypertension</th>\n",
       "      <th>heart_disease</th>\n",
       "      <th>ever_married</th>\n",
       "      <th>work_type</th>\n",
       "      <th>Residence_type</th>\n",
       "      <th>avg_glucose_level</th>\n",
       "      <th>bmi</th>\n",
       "      <th>smoking_status</th>\n",
       "      <th>stroke</th>\n",
       "    </tr>\n",
       "  </thead>\n",
       "  <tbody>\n",
       "    <tr>\n",
       "      <th>0</th>\n",
       "      <td>9046</td>\n",
       "      <td>Male</td>\n",
       "      <td>67.0</td>\n",
       "      <td>0</td>\n",
       "      <td>1</td>\n",
       "      <td>Yes</td>\n",
       "      <td>Private</td>\n",
       "      <td>Urban</td>\n",
       "      <td>228.69</td>\n",
       "      <td>36.6</td>\n",
       "      <td>formerly smoked</td>\n",
       "      <td>1</td>\n",
       "    </tr>\n",
       "    <tr>\n",
       "      <th>1</th>\n",
       "      <td>51676</td>\n",
       "      <td>Female</td>\n",
       "      <td>61.0</td>\n",
       "      <td>0</td>\n",
       "      <td>0</td>\n",
       "      <td>Yes</td>\n",
       "      <td>Self-employed</td>\n",
       "      <td>Rural</td>\n",
       "      <td>202.21</td>\n",
       "      <td>NaN</td>\n",
       "      <td>never smoked</td>\n",
       "      <td>1</td>\n",
       "    </tr>\n",
       "    <tr>\n",
       "      <th>2</th>\n",
       "      <td>31112</td>\n",
       "      <td>Male</td>\n",
       "      <td>80.0</td>\n",
       "      <td>0</td>\n",
       "      <td>1</td>\n",
       "      <td>Yes</td>\n",
       "      <td>Private</td>\n",
       "      <td>Rural</td>\n",
       "      <td>105.92</td>\n",
       "      <td>32.5</td>\n",
       "      <td>never smoked</td>\n",
       "      <td>1</td>\n",
       "    </tr>\n",
       "    <tr>\n",
       "      <th>3</th>\n",
       "      <td>60182</td>\n",
       "      <td>Female</td>\n",
       "      <td>49.0</td>\n",
       "      <td>0</td>\n",
       "      <td>0</td>\n",
       "      <td>Yes</td>\n",
       "      <td>Private</td>\n",
       "      <td>Urban</td>\n",
       "      <td>171.23</td>\n",
       "      <td>34.4</td>\n",
       "      <td>smokes</td>\n",
       "      <td>1</td>\n",
       "    </tr>\n",
       "    <tr>\n",
       "      <th>4</th>\n",
       "      <td>1665</td>\n",
       "      <td>Female</td>\n",
       "      <td>79.0</td>\n",
       "      <td>1</td>\n",
       "      <td>0</td>\n",
       "      <td>Yes</td>\n",
       "      <td>Self-employed</td>\n",
       "      <td>Rural</td>\n",
       "      <td>174.12</td>\n",
       "      <td>24.0</td>\n",
       "      <td>never smoked</td>\n",
       "      <td>1</td>\n",
       "    </tr>\n",
       "    <tr>\n",
       "      <th>...</th>\n",
       "      <td>...</td>\n",
       "      <td>...</td>\n",
       "      <td>...</td>\n",
       "      <td>...</td>\n",
       "      <td>...</td>\n",
       "      <td>...</td>\n",
       "      <td>...</td>\n",
       "      <td>...</td>\n",
       "      <td>...</td>\n",
       "      <td>...</td>\n",
       "      <td>...</td>\n",
       "      <td>...</td>\n",
       "    </tr>\n",
       "    <tr>\n",
       "      <th>5105</th>\n",
       "      <td>18234</td>\n",
       "      <td>Female</td>\n",
       "      <td>80.0</td>\n",
       "      <td>1</td>\n",
       "      <td>0</td>\n",
       "      <td>Yes</td>\n",
       "      <td>Private</td>\n",
       "      <td>Urban</td>\n",
       "      <td>83.75</td>\n",
       "      <td>NaN</td>\n",
       "      <td>never smoked</td>\n",
       "      <td>0</td>\n",
       "    </tr>\n",
       "    <tr>\n",
       "      <th>5106</th>\n",
       "      <td>44873</td>\n",
       "      <td>Female</td>\n",
       "      <td>81.0</td>\n",
       "      <td>0</td>\n",
       "      <td>0</td>\n",
       "      <td>Yes</td>\n",
       "      <td>Self-employed</td>\n",
       "      <td>Urban</td>\n",
       "      <td>125.20</td>\n",
       "      <td>40.0</td>\n",
       "      <td>never smoked</td>\n",
       "      <td>0</td>\n",
       "    </tr>\n",
       "    <tr>\n",
       "      <th>5107</th>\n",
       "      <td>19723</td>\n",
       "      <td>Female</td>\n",
       "      <td>35.0</td>\n",
       "      <td>0</td>\n",
       "      <td>0</td>\n",
       "      <td>Yes</td>\n",
       "      <td>Self-employed</td>\n",
       "      <td>Rural</td>\n",
       "      <td>82.99</td>\n",
       "      <td>30.6</td>\n",
       "      <td>never smoked</td>\n",
       "      <td>0</td>\n",
       "    </tr>\n",
       "    <tr>\n",
       "      <th>5108</th>\n",
       "      <td>37544</td>\n",
       "      <td>Male</td>\n",
       "      <td>51.0</td>\n",
       "      <td>0</td>\n",
       "      <td>0</td>\n",
       "      <td>Yes</td>\n",
       "      <td>Private</td>\n",
       "      <td>Rural</td>\n",
       "      <td>166.29</td>\n",
       "      <td>25.6</td>\n",
       "      <td>formerly smoked</td>\n",
       "      <td>0</td>\n",
       "    </tr>\n",
       "    <tr>\n",
       "      <th>5109</th>\n",
       "      <td>44679</td>\n",
       "      <td>Female</td>\n",
       "      <td>44.0</td>\n",
       "      <td>0</td>\n",
       "      <td>0</td>\n",
       "      <td>Yes</td>\n",
       "      <td>Govt_job</td>\n",
       "      <td>Urban</td>\n",
       "      <td>85.28</td>\n",
       "      <td>26.2</td>\n",
       "      <td>Unknown</td>\n",
       "      <td>0</td>\n",
       "    </tr>\n",
       "  </tbody>\n",
       "</table>\n",
       "<p>5110 rows × 12 columns</p>\n",
       "</div>"
      ],
      "text/plain": [
       "         id  gender   age  hypertension  heart_disease ever_married  \\\n",
       "0      9046    Male  67.0             0              1          Yes   \n",
       "1     51676  Female  61.0             0              0          Yes   \n",
       "2     31112    Male  80.0             0              1          Yes   \n",
       "3     60182  Female  49.0             0              0          Yes   \n",
       "4      1665  Female  79.0             1              0          Yes   \n",
       "...     ...     ...   ...           ...            ...          ...   \n",
       "5105  18234  Female  80.0             1              0          Yes   \n",
       "5106  44873  Female  81.0             0              0          Yes   \n",
       "5107  19723  Female  35.0             0              0          Yes   \n",
       "5108  37544    Male  51.0             0              0          Yes   \n",
       "5109  44679  Female  44.0             0              0          Yes   \n",
       "\n",
       "          work_type Residence_type  avg_glucose_level   bmi   smoking_status  \\\n",
       "0           Private          Urban             228.69  36.6  formerly smoked   \n",
       "1     Self-employed          Rural             202.21   NaN     never smoked   \n",
       "2           Private          Rural             105.92  32.5     never smoked   \n",
       "3           Private          Urban             171.23  34.4           smokes   \n",
       "4     Self-employed          Rural             174.12  24.0     never smoked   \n",
       "...             ...            ...                ...   ...              ...   \n",
       "5105        Private          Urban              83.75   NaN     never smoked   \n",
       "5106  Self-employed          Urban             125.20  40.0     never smoked   \n",
       "5107  Self-employed          Rural              82.99  30.6     never smoked   \n",
       "5108        Private          Rural             166.29  25.6  formerly smoked   \n",
       "5109       Govt_job          Urban              85.28  26.2          Unknown   \n",
       "\n",
       "      stroke  \n",
       "0          1  \n",
       "1          1  \n",
       "2          1  \n",
       "3          1  \n",
       "4          1  \n",
       "...      ...  \n",
       "5105       0  \n",
       "5106       0  \n",
       "5107       0  \n",
       "5108       0  \n",
       "5109       0  \n",
       "\n",
       "[5110 rows x 12 columns]"
      ]
     },
     "execution_count": 3,
     "metadata": {},
     "output_type": "execute_result"
    }
   ],
   "source": [
    "df"
   ]
  },
  {
   "cell_type": "code",
   "execution_count": 4,
   "id": "853d439f",
   "metadata": {
    "scrolled": true
   },
   "outputs": [
    {
     "name": "stdout",
     "output_type": "stream",
     "text": [
      "<class 'pandas.core.frame.DataFrame'>\n",
      "RangeIndex: 5110 entries, 0 to 5109\n",
      "Data columns (total 12 columns):\n",
      " #   Column             Non-Null Count  Dtype  \n",
      "---  ------             --------------  -----  \n",
      " 0   id                 5110 non-null   int64  \n",
      " 1   gender             5110 non-null   object \n",
      " 2   age                5110 non-null   float64\n",
      " 3   hypertension       5110 non-null   int64  \n",
      " 4   heart_disease      5110 non-null   int64  \n",
      " 5   ever_married       5110 non-null   object \n",
      " 6   work_type          5110 non-null   object \n",
      " 7   Residence_type     5110 non-null   object \n",
      " 8   avg_glucose_level  5110 non-null   float64\n",
      " 9   bmi                4909 non-null   float64\n",
      " 10  smoking_status     5110 non-null   object \n",
      " 11  stroke             5110 non-null   int64  \n",
      "dtypes: float64(3), int64(4), object(5)\n",
      "memory usage: 479.2+ KB\n"
     ]
    }
   ],
   "source": [
    "df.info()"
   ]
  },
  {
   "cell_type": "code",
   "execution_count": 5,
   "id": "4fed768e",
   "metadata": {},
   "outputs": [
    {
     "data": {
      "text/plain": [
       "id                     0\n",
       "gender                 0\n",
       "age                    0\n",
       "hypertension           0\n",
       "heart_disease          0\n",
       "ever_married           0\n",
       "work_type              0\n",
       "Residence_type         0\n",
       "avg_glucose_level      0\n",
       "bmi                  201\n",
       "smoking_status         0\n",
       "stroke                 0\n",
       "dtype: int64"
      ]
     },
     "execution_count": 5,
     "metadata": {},
     "output_type": "execute_result"
    }
   ],
   "source": [
    "df.isna().sum()"
   ]
  },
  {
   "cell_type": "markdown",
   "id": "a94fffbd",
   "metadata": {},
   "source": [
    "### Observation (1)\n",
    "There are 11 parameters with 5110 values each, except for BMI data (4% of missing values). \n",
    "All parameters probably can be important, except for \"ID\". It's unlikely to contain any useful information that's why can be neglected in the analysis"
   ]
  },
  {
   "cell_type": "code",
   "execution_count": 6,
   "id": "77fe64e0",
   "metadata": {},
   "outputs": [
    {
     "data": {
      "text/html": [
       "<div>\n",
       "<style scoped>\n",
       "    .dataframe tbody tr th:only-of-type {\n",
       "        vertical-align: middle;\n",
       "    }\n",
       "\n",
       "    .dataframe tbody tr th {\n",
       "        vertical-align: top;\n",
       "    }\n",
       "\n",
       "    .dataframe thead th {\n",
       "        text-align: right;\n",
       "    }\n",
       "</style>\n",
       "<table border=\"1\" class=\"dataframe\">\n",
       "  <thead>\n",
       "    <tr style=\"text-align: right;\">\n",
       "      <th></th>\n",
       "      <th>id</th>\n",
       "      <th>age</th>\n",
       "      <th>hypertension</th>\n",
       "      <th>heart_disease</th>\n",
       "      <th>avg_glucose_level</th>\n",
       "      <th>bmi</th>\n",
       "      <th>stroke</th>\n",
       "    </tr>\n",
       "  </thead>\n",
       "  <tbody>\n",
       "    <tr>\n",
       "      <th>count</th>\n",
       "      <td>5110.000000</td>\n",
       "      <td>5110.000000</td>\n",
       "      <td>5110.000000</td>\n",
       "      <td>5110.000000</td>\n",
       "      <td>5110.000000</td>\n",
       "      <td>4909.000000</td>\n",
       "      <td>5110.000000</td>\n",
       "    </tr>\n",
       "    <tr>\n",
       "      <th>mean</th>\n",
       "      <td>36517.829354</td>\n",
       "      <td>43.226614</td>\n",
       "      <td>0.097456</td>\n",
       "      <td>0.054012</td>\n",
       "      <td>106.147677</td>\n",
       "      <td>28.893237</td>\n",
       "      <td>0.048728</td>\n",
       "    </tr>\n",
       "    <tr>\n",
       "      <th>std</th>\n",
       "      <td>21161.721625</td>\n",
       "      <td>22.612647</td>\n",
       "      <td>0.296607</td>\n",
       "      <td>0.226063</td>\n",
       "      <td>45.283560</td>\n",
       "      <td>7.854067</td>\n",
       "      <td>0.215320</td>\n",
       "    </tr>\n",
       "    <tr>\n",
       "      <th>min</th>\n",
       "      <td>67.000000</td>\n",
       "      <td>0.080000</td>\n",
       "      <td>0.000000</td>\n",
       "      <td>0.000000</td>\n",
       "      <td>55.120000</td>\n",
       "      <td>10.300000</td>\n",
       "      <td>0.000000</td>\n",
       "    </tr>\n",
       "    <tr>\n",
       "      <th>25%</th>\n",
       "      <td>17741.250000</td>\n",
       "      <td>25.000000</td>\n",
       "      <td>0.000000</td>\n",
       "      <td>0.000000</td>\n",
       "      <td>77.245000</td>\n",
       "      <td>23.500000</td>\n",
       "      <td>0.000000</td>\n",
       "    </tr>\n",
       "    <tr>\n",
       "      <th>50%</th>\n",
       "      <td>36932.000000</td>\n",
       "      <td>45.000000</td>\n",
       "      <td>0.000000</td>\n",
       "      <td>0.000000</td>\n",
       "      <td>91.885000</td>\n",
       "      <td>28.100000</td>\n",
       "      <td>0.000000</td>\n",
       "    </tr>\n",
       "    <tr>\n",
       "      <th>75%</th>\n",
       "      <td>54682.000000</td>\n",
       "      <td>61.000000</td>\n",
       "      <td>0.000000</td>\n",
       "      <td>0.000000</td>\n",
       "      <td>114.090000</td>\n",
       "      <td>33.100000</td>\n",
       "      <td>0.000000</td>\n",
       "    </tr>\n",
       "    <tr>\n",
       "      <th>max</th>\n",
       "      <td>72940.000000</td>\n",
       "      <td>82.000000</td>\n",
       "      <td>1.000000</td>\n",
       "      <td>1.000000</td>\n",
       "      <td>271.740000</td>\n",
       "      <td>97.600000</td>\n",
       "      <td>1.000000</td>\n",
       "    </tr>\n",
       "  </tbody>\n",
       "</table>\n",
       "</div>"
      ],
      "text/plain": [
       "                 id          age  hypertension  heart_disease  \\\n",
       "count   5110.000000  5110.000000   5110.000000    5110.000000   \n",
       "mean   36517.829354    43.226614      0.097456       0.054012   \n",
       "std    21161.721625    22.612647      0.296607       0.226063   \n",
       "min       67.000000     0.080000      0.000000       0.000000   \n",
       "25%    17741.250000    25.000000      0.000000       0.000000   \n",
       "50%    36932.000000    45.000000      0.000000       0.000000   \n",
       "75%    54682.000000    61.000000      0.000000       0.000000   \n",
       "max    72940.000000    82.000000      1.000000       1.000000   \n",
       "\n",
       "       avg_glucose_level          bmi       stroke  \n",
       "count        5110.000000  4909.000000  5110.000000  \n",
       "mean          106.147677    28.893237     0.048728  \n",
       "std            45.283560     7.854067     0.215320  \n",
       "min            55.120000    10.300000     0.000000  \n",
       "25%            77.245000    23.500000     0.000000  \n",
       "50%            91.885000    28.100000     0.000000  \n",
       "75%           114.090000    33.100000     0.000000  \n",
       "max           271.740000    97.600000     1.000000  "
      ]
     },
     "execution_count": 6,
     "metadata": {},
     "output_type": "execute_result"
    }
   ],
   "source": [
    "df.describe()"
   ]
  },
  {
   "cell_type": "markdown",
   "id": "c194f35c",
   "metadata": {},
   "source": [
    "### Observation (2)\n",
    "1.\tThe average age of people is 43 years with the standard deviation of 22.6 years, which means that almost all age groups were covered. The maximum age is 82 years, the minimum is 1 month.\n",
    "2.\tThe average glucose level is 106.1 mg/dL with the standard deviation of 45.3 mg/dL, which generally shows a healthy state of most people, but there are people with unhealthy indicators for the average glucose level. The maximum value reaches 271.7 mg/dL.\n",
    "3.\tThe average level of the body mass index is 28.9 kg/m2, and given the standard deviation of 7.9 kg/m2, it can be assumed that most people are overweight. The maximum index is 97.6 kg/m2, which indicates an obvious obesity.\n",
    "4.\tIt is worth to note that the average values of the following parameters (hypertension, heart disease, stroke) are quite low, and it says that there will be few positive values in the dataset. Most likely, it will be difficult to predict something with so under-represented information."
   ]
  },
  {
   "cell_type": "code",
   "execution_count": 7,
   "id": "defab486",
   "metadata": {},
   "outputs": [
    {
     "data": {
      "text/html": [
       "<div>\n",
       "<style scoped>\n",
       "    .dataframe tbody tr th:only-of-type {\n",
       "        vertical-align: middle;\n",
       "    }\n",
       "\n",
       "    .dataframe tbody tr th {\n",
       "        vertical-align: top;\n",
       "    }\n",
       "\n",
       "    .dataframe thead th {\n",
       "        text-align: right;\n",
       "    }\n",
       "</style>\n",
       "<table border=\"1\" class=\"dataframe\">\n",
       "  <thead>\n",
       "    <tr style=\"text-align: right;\">\n",
       "      <th></th>\n",
       "      <th>gender</th>\n",
       "      <th>ever_married</th>\n",
       "      <th>work_type</th>\n",
       "      <th>Residence_type</th>\n",
       "      <th>smoking_status</th>\n",
       "    </tr>\n",
       "  </thead>\n",
       "  <tbody>\n",
       "    <tr>\n",
       "      <th>count</th>\n",
       "      <td>5110</td>\n",
       "      <td>5110</td>\n",
       "      <td>5110</td>\n",
       "      <td>5110</td>\n",
       "      <td>5110</td>\n",
       "    </tr>\n",
       "    <tr>\n",
       "      <th>unique</th>\n",
       "      <td>3</td>\n",
       "      <td>2</td>\n",
       "      <td>5</td>\n",
       "      <td>2</td>\n",
       "      <td>4</td>\n",
       "    </tr>\n",
       "    <tr>\n",
       "      <th>top</th>\n",
       "      <td>Female</td>\n",
       "      <td>Yes</td>\n",
       "      <td>Private</td>\n",
       "      <td>Urban</td>\n",
       "      <td>never smoked</td>\n",
       "    </tr>\n",
       "    <tr>\n",
       "      <th>freq</th>\n",
       "      <td>2994</td>\n",
       "      <td>3353</td>\n",
       "      <td>2925</td>\n",
       "      <td>2596</td>\n",
       "      <td>1892</td>\n",
       "    </tr>\n",
       "  </tbody>\n",
       "</table>\n",
       "</div>"
      ],
      "text/plain": [
       "        gender ever_married work_type Residence_type smoking_status\n",
       "count     5110         5110      5110           5110           5110\n",
       "unique       3            2         5              2              4\n",
       "top     Female          Yes   Private          Urban   never smoked\n",
       "freq      2994         3353      2925           2596           1892"
      ]
     },
     "execution_count": 7,
     "metadata": {},
     "output_type": "execute_result"
    }
   ],
   "source": [
    "df.describe(exclude=[np.number])"
   ]
  },
  {
   "cell_type": "markdown",
   "id": "18ac85fc",
   "metadata": {},
   "source": [
    "### Observation (3)\n",
    "The categorical data is totally complete. It's strange that there are three unique values for \"Gender\". It should be investigated and pre-processed if necessary."
   ]
  },
  {
   "cell_type": "markdown",
   "id": "18e09970",
   "metadata": {},
   "source": [
    "### CATEGORICAL VARIABLES IN MORE DETAIL"
   ]
  },
  {
   "cell_type": "code",
   "execution_count": 8,
   "id": "962cd2f2",
   "metadata": {},
   "outputs": [
    {
     "data": {
      "text/plain": [
       "Female    2994\n",
       "Male      2115\n",
       "Other        1\n",
       "Name: gender, dtype: int64"
      ]
     },
     "execution_count": 8,
     "metadata": {},
     "output_type": "execute_result"
    }
   ],
   "source": [
    "df.gender.value_counts()"
   ]
  },
  {
   "cell_type": "code",
   "execution_count": 9,
   "id": "166e029c",
   "metadata": {},
   "outputs": [
    {
     "data": {
      "text/html": [
       "<div>\n",
       "<style scoped>\n",
       "    .dataframe tbody tr th:only-of-type {\n",
       "        vertical-align: middle;\n",
       "    }\n",
       "\n",
       "    .dataframe tbody tr th {\n",
       "        vertical-align: top;\n",
       "    }\n",
       "\n",
       "    .dataframe thead th {\n",
       "        text-align: right;\n",
       "    }\n",
       "</style>\n",
       "<table border=\"1\" class=\"dataframe\">\n",
       "  <thead>\n",
       "    <tr style=\"text-align: right;\">\n",
       "      <th></th>\n",
       "      <th>id</th>\n",
       "      <th>gender</th>\n",
       "      <th>age</th>\n",
       "      <th>hypertension</th>\n",
       "      <th>heart_disease</th>\n",
       "      <th>ever_married</th>\n",
       "      <th>work_type</th>\n",
       "      <th>Residence_type</th>\n",
       "      <th>avg_glucose_level</th>\n",
       "      <th>bmi</th>\n",
       "      <th>smoking_status</th>\n",
       "      <th>stroke</th>\n",
       "    </tr>\n",
       "  </thead>\n",
       "  <tbody>\n",
       "    <tr>\n",
       "      <th>3116</th>\n",
       "      <td>56156</td>\n",
       "      <td>Other</td>\n",
       "      <td>26.0</td>\n",
       "      <td>0</td>\n",
       "      <td>0</td>\n",
       "      <td>No</td>\n",
       "      <td>Private</td>\n",
       "      <td>Rural</td>\n",
       "      <td>143.33</td>\n",
       "      <td>22.4</td>\n",
       "      <td>formerly smoked</td>\n",
       "      <td>0</td>\n",
       "    </tr>\n",
       "  </tbody>\n",
       "</table>\n",
       "</div>"
      ],
      "text/plain": [
       "         id gender   age  hypertension  heart_disease ever_married work_type  \\\n",
       "3116  56156  Other  26.0             0              0           No   Private   \n",
       "\n",
       "     Residence_type  avg_glucose_level   bmi   smoking_status  stroke  \n",
       "3116          Rural             143.33  22.4  formerly smoked       0  "
      ]
     },
     "execution_count": 9,
     "metadata": {},
     "output_type": "execute_result"
    }
   ],
   "source": [
    "df[df.gender=='Other']"
   ]
  },
  {
   "cell_type": "markdown",
   "id": "05640a6e",
   "metadata": {},
   "source": [
    "### Observation (4)\n",
    "As there is only one line where gender is \"Other\", I make an assumption in the analysis that it could be a man. In any case, it wouldn't greatly affect the final result."
   ]
  },
  {
   "cell_type": "code",
   "execution_count": 10,
   "id": "59ae51e2",
   "metadata": {
    "scrolled": true
   },
   "outputs": [
    {
     "name": "stderr",
     "output_type": "stream",
     "text": [
      "C:\\Users\\Gali\\anaconda3\\lib\\site-packages\\seaborn\\_decorators.py:36: FutureWarning: Pass the following variable as a keyword arg: x. From version 0.12, the only valid positional argument will be `data`, and passing other arguments without an explicit keyword will result in an error or misinterpretation.\n",
      "  warnings.warn(\n"
     ]
    },
    {
     "data": {
      "image/png": "[encoded data removed]",
      "text/plain": [
       "<Figure size 640x480 with 1 Axes>"
      ]
     },
     "metadata": {},
     "output_type": "display_data"
    }
   ],
   "source": [
    "plt.figure\n",
    "sns.countplot(df['stroke'], hue=df['gender'])\n",
    "plt.show()"
   ]
  },
  {
   "cell_type": "markdown",
   "id": "8b6abb1f",
   "metadata": {},
   "source": [
    "### Observation (5)\n",
    "As shown in the diagram, the ratio between men and women is slightly different for both values of \"stroke\". And it was mentioned earlier, there is significantly low representation of the positive values of the \"stroke\" parameter"
   ]
  },
  {
   "cell_type": "code",
   "execution_count": 11,
   "id": "cec0ac55",
   "metadata": {
    "scrolled": true
   },
   "outputs": [
    {
     "data": {
      "image/png": "[encoded data removed]",
      "text/plain": [
       "<Figure size 640x480 with 1 Axes>"
      ]
     },
     "metadata": {},
     "output_type": "display_data"
    }
   ],
   "source": [
    "plt.figure\n",
    "sns.histplot(x=\"work_type\",hue=\"stroke\",multiple=\"stack\",data=df)\n",
    "plt.show()"
   ]
  },
  {
   "cell_type": "code",
   "execution_count": 12,
   "id": "f59524c4",
   "metadata": {
    "scrolled": true
   },
   "outputs": [
    {
     "data": {
      "image/png": "[encoded data removed]",
      "text/plain": [
       "<Figure size 640x480 with 1 Axes>"
      ]
     },
     "metadata": {},
     "output_type": "display_data"
    }
   ],
   "source": [
    "sns.boxplot(x='work_type',y='age', data=df)\n",
    "plt.show()"
   ]
  },
  {
   "cell_type": "markdown",
   "id": "3d35c64c",
   "metadata": {},
   "source": [
    "### Observation (6)\n",
    "1. Most of the people work in private companies. There is also a large number of strokes in this category. \n",
    "2. A small number of the unemployed people.\n",
    "3. People over 60 prefer to work for themselves, probably the retirement can be the reason\n",
    "4. It's also interesting to see that people under 40 don't work in government positions.\n"
   ]
  },
  {
   "cell_type": "code",
   "execution_count": 13,
   "id": "0b5aab63",
   "metadata": {},
   "outputs": [
    {
     "data": {
      "image/png": "[encoded data removed]",
      "text/plain": [
       "<Figure size 640x480 with 1 Axes>"
      ]
     },
     "metadata": {},
     "output_type": "display_data"
    }
   ],
   "source": [
    "plt.figure\n",
    "sns.histplot(x=\"smoking_status\",hue=\"stroke\",multiple=\"stack\",data=df)\n",
    "plt.show()"
   ]
  },
  {
   "cell_type": "markdown",
   "id": "c3b34000",
   "metadata": {},
   "source": [
    "### Observation (7.1)\n",
    "Based on the histogram above, most people have never smoked and a lot of data is unknown. The last one may complicate the analysis. It is necessary to define whether it is possible to pre-process data to be more relevant"
   ]
  },
  {
   "cell_type": "code",
   "execution_count": 14,
   "id": "2c8faef2",
   "metadata": {},
   "outputs": [
    {
     "data": {
      "image/png": "[encoded data removed]",
      "text/plain": [
       "<Figure size 640x480 with 1 Axes>"
      ]
     },
     "metadata": {},
     "output_type": "display_data"
    }
   ],
   "source": [
    "sns.histplot(x=\"work_type\",hue=\"smoking_status\",multiple=\"stack\",data=df)\n",
    "plt.show()"
   ]
  },
  {
   "cell_type": "code",
   "execution_count": 15,
   "id": "c954f60b",
   "metadata": {
    "scrolled": false
   },
   "outputs": [
    {
     "data": {
      "text/plain": [
       "Unknown            618\n",
       "never smoked        54\n",
       "formerly smoked     13\n",
       "smokes               2\n",
       "Name: smoking_status, dtype: int64"
      ]
     },
     "execution_count": 15,
     "metadata": {},
     "output_type": "execute_result"
    }
   ],
   "source": [
    "df.loc[df.work_type == \"children\",\"smoking_status\"].value_counts()"
   ]
  },
  {
   "cell_type": "code",
   "execution_count": 16,
   "id": "45f0ad48",
   "metadata": {
    "scrolled": true
   },
   "outputs": [
    {
     "data": {
      "text/plain": [
       "Unknown            521\n",
       "never smoked        16\n",
       "formerly smoked      5\n",
       "smokes               1\n",
       "Name: smoking_status, dtype: int64"
      ]
     },
     "execution_count": 16,
     "metadata": {},
     "output_type": "execute_result"
    }
   ],
   "source": [
    "df.loc[df.age < 12,\"smoking_status\"].value_counts()"
   ]
  },
  {
   "cell_type": "markdown",
   "id": "3ffc0176",
   "metadata": {},
   "source": [
    "### Observation (7.2)\n",
    "As it can be seen from the histogram, about half of those \"unknown\" is in the \"children\" category, and therefore it just can be assumed that children should be in the \"never smoked\" category"
   ]
  },
  {
   "cell_type": "code",
   "execution_count": 17,
   "id": "cda87360",
   "metadata": {
    "scrolled": true
   },
   "outputs": [],
   "source": [
    "df_children_never_smoked = df\n",
    "df_children_never_smoked.loc[df.work_type == \"children\",\"smoking_status\"] = 'never smoked'"
   ]
  },
  {
   "cell_type": "code",
   "execution_count": 18,
   "id": "e524bf13",
   "metadata": {
    "scrolled": true
   },
   "outputs": [
    {
     "data": {
      "image/png": "[encoded data removed]",
      "text/plain": [
       "<Figure size 640x480 with 1 Axes>"
      ]
     },
     "metadata": {},
     "output_type": "display_data"
    }
   ],
   "source": [
    "sns.histplot(x=\"gender\",hue=\"smoking_status\",multiple=\"stack\",data=df_children_never_smoked)\n",
    "plt.show()"
   ]
  },
  {
   "cell_type": "code",
   "execution_count": 19,
   "id": "115af302",
   "metadata": {
    "scrolled": true
   },
   "outputs": [
    {
     "data": {
      "text/plain": [
       "never smoked       1528\n",
       "Unknown             544\n",
       "formerly smoked     471\n",
       "smokes              451\n",
       "Name: smoking_status, dtype: int64"
      ]
     },
     "execution_count": 19,
     "metadata": {},
     "output_type": "execute_result"
    }
   ],
   "source": [
    "df[df_children_never_smoked.gender=='Female'].smoking_status.value_counts()"
   ]
  },
  {
   "cell_type": "markdown",
   "id": "8ec9de9c",
   "metadata": {},
   "source": [
    "### Observation (7.3)\n",
    "1.\tIf we exclude children and take only smoking adults, then according to statistics, the ratio of men to women must be at least 2:1, so we can assume that the number of smoking men is under-represented\n",
    "2.\tAs the number of non-smoking women is always higher, so it is possible in theory to determine the remaining \"unknowns\" by the frequently occurring value. It's just an assumption."
   ]
  },
  {
   "cell_type": "code",
   "execution_count": 20,
   "id": "dfb4a943",
   "metadata": {
    "scrolled": true
   },
   "outputs": [
    {
     "data": {
      "image/png": "[encoded data removed]",
      "text/plain": [
       "<Figure size 640x480 with 1 Axes>"
      ]
     },
     "metadata": {},
     "output_type": "display_data"
    }
   ],
   "source": [
    "plt.figure\n",
    "sns.histplot(x=\"ever_married\",hue=\"stroke\",multiple=\"stack\",data=df)\n",
    "plt.show()"
   ]
  },
  {
   "cell_type": "markdown",
   "id": "bd85da9f",
   "metadata": {},
   "source": [
    "### Observation (8)\n",
    "The diagram shows an uneven distribution of \"ever-married\" and \"never-married\" people, and it can be noted that a large number of positive values of the \"stroke\" is in the category of \"ever-married\" people."
   ]
  },
  {
   "cell_type": "code",
   "execution_count": 21,
   "id": "a502c8a3",
   "metadata": {},
   "outputs": [
    {
     "data": {
      "image/png": "[encoded data removed]",
      "text/plain": [
       "<Figure size 640x480 with 1 Axes>"
      ]
     },
     "metadata": {},
     "output_type": "display_data"
    }
   ],
   "source": [
    "plt.figure\n",
    "sns.histplot(x=\"Residence_type\",hue=\"stroke\",multiple=\"stack\",data=df)\n",
    "plt.show()"
   ]
  },
  {
   "cell_type": "markdown",
   "id": "54def114",
   "metadata": {},
   "source": [
    "### Observation (9)\n",
    "The diagram shows a uniform number of residents of rural and urban areas, but apparently the place of the residence does not particularly affect the occurence of stroke"
   ]
  },
  {
   "cell_type": "markdown",
   "id": "cb8d5eea",
   "metadata": {},
   "source": [
    "### QUANTITATIVE VARIABLES IN MORE DETAIL"
   ]
  },
  {
   "cell_type": "code",
   "execution_count": 22,
   "id": "e8dffc4f",
   "metadata": {
    "scrolled": false
   },
   "outputs": [
    {
     "data": {
      "image/png": "[encoded data removed]",
      "text/plain": [
       "<Figure size 640x480 with 1 Axes>"
      ]
     },
     "metadata": {},
     "output_type": "display_data"
    }
   ],
   "source": [
    "sns.boxplot(x='stroke',y='age', data=df)\n",
    "plt.show()"
   ]
  },
  {
   "cell_type": "code",
   "execution_count": 23,
   "id": "cdc8a93c",
   "metadata": {
    "scrolled": true
   },
   "outputs": [
    {
     "data": {
      "image/png": "[encoded data removed]",
      "text/plain": [
       "<Figure size 640x480 with 1 Axes>"
      ]
     },
     "metadata": {},
     "output_type": "display_data"
    }
   ],
   "source": [
    "seaborn_plot = sns.violinplot(x='stroke',y='age', data=df)\n",
    "plt.title('Age density by stroke')\n",
    "plt.show()"
   ]
  },
  {
   "cell_type": "markdown",
   "id": "640d89fb",
   "metadata": {},
   "source": [
    "### Observation (10)\n",
    "These plots above show that mostly older people are susceptible to disease, considering some exceptions. The shape of violin plots also confirms it."
   ]
  },
  {
   "cell_type": "code",
   "execution_count": 24,
   "id": "e826a751",
   "metadata": {
    "scrolled": true
   },
   "outputs": [
    {
     "data": {
      "image/png": "[encoded data removed]",
      "text/plain": [
       "<Figure size 500x500 with 1 Axes>"
      ]
     },
     "metadata": {},
     "output_type": "display_data"
    },
    {
     "data": {
      "image/png": "[encoded data removed]",
      "text/plain": [
       "<Figure size 500x500 with 1 Axes>"
      ]
     },
     "metadata": {},
     "output_type": "display_data"
    },
    {
     "data": {
      "image/png": "[encoded data removed]",
      "text/plain": [
       "<Figure size 500x500 with 1 Axes>"
      ]
     },
     "metadata": {},
     "output_type": "display_data"
    }
   ],
   "source": [
    "plt.figure(figsize=(5,5))\n",
    "sns.histplot(x=\"age\",hue=\"stroke\",multiple=\"stack\",data=df)\n",
    "plt.show()\n",
    "\n",
    "plt.figure(figsize=(5,5))\n",
    "sns.histplot(x=\"age\",hue=\"heart_disease\",multiple=\"stack\",data=df)\n",
    "plt.show()\n",
    "\n",
    "plt.figure(figsize=(5,5))\n",
    "sns.histplot(x=\"age\",hue=\"hypertension\",multiple=\"stack\",data=df)\n",
    "plt.show()"
   ]
  },
  {
   "cell_type": "markdown",
   "id": "3f42742e",
   "metadata": {},
   "source": [
    "### Observation (11)\n",
    "It was mentioned before that older people have a stroke much more often. It is also worth to note that the disease distributions are almost similar across all histograms,that's why it is necessary to figure out whether there is any significant correlation between them."
   ]
  },
  {
   "cell_type": "code",
   "execution_count": 25,
   "id": "440d8605",
   "metadata": {
    "scrolled": false
   },
   "outputs": [
    {
     "data": {
      "image/png": "[encoded data removed]",
      "text/plain": [
       "<Figure size 500x500 with 2 Axes>"
      ]
     },
     "metadata": {},
     "output_type": "display_data"
    }
   ],
   "source": [
    "plt.figure(figsize=(5,5))\n",
    "sns.heatmap(df.corr(),annot=True)\n",
    "plt.show()"
   ]
  },
  {
   "cell_type": "markdown",
   "id": "1515b1dc",
   "metadata": {},
   "source": [
    "### Observation (12)\n",
    "As it turned out, there are no particularly strong correlations anywhere. The maximum correlation is 33% (between body mass index and age)."
   ]
  },
  {
   "cell_type": "code",
   "execution_count": 26,
   "id": "34b42fdd",
   "metadata": {
    "scrolled": true
   },
   "outputs": [
    {
     "data": {
      "image/png": "[encoded data removed]",
      "text/plain": [
       "<Figure size 640x480 with 1 Axes>"
      ]
     },
     "metadata": {},
     "output_type": "display_data"
    },
    {
     "data": {
      "image/png": "[encoded data removed]",
      "text/plain": [
       "<Figure size 1000x500 with 1 Axes>"
      ]
     },
     "metadata": {},
     "output_type": "display_data"
    }
   ],
   "source": [
    "sns.histplot(df['avg_glucose_level'],kde=True)\n",
    "plt.show()\n",
    "plt.figure(figsize=(10,5))\n",
    "\n",
    "sns.histplot(df['bmi'],kde=True)\n",
    "plt.show()"
   ]
  },
  {
   "cell_type": "markdown",
   "id": "bdc465fe",
   "metadata": {},
   "source": [
    "### Observation (13)\n",
    "1. The histogram of the body mass index has a normal distribution, which gives us the right to replace the missing values with an arithmetic mean.\n",
    "2. The histogram of the average glucose level has a bimodal distribution, which indicates the heterogeneity of the data, probably it should be divided into categories for a more accurate prediction."
   ]
  },
  {
   "cell_type": "code",
   "execution_count": 27,
   "id": "54266573",
   "metadata": {},
   "outputs": [],
   "source": [
    "df_obesity = df[df.bmi >30]"
   ]
  },
  {
   "cell_type": "code",
   "execution_count": 28,
   "id": "61cec94e",
   "metadata": {
    "scrolled": true
   },
   "outputs": [
    {
     "data": {
      "image/png": "[encoded data removed]",
      "text/plain": [
       "<Figure size 640x480 with 1 Axes>"
      ]
     },
     "metadata": {},
     "output_type": "display_data"
    },
    {
     "data": {
      "image/png": "[encoded data removed]",
      "text/plain": [
       "<Figure size 640x480 with 1 Axes>"
      ]
     },
     "metadata": {},
     "output_type": "display_data"
    }
   ],
   "source": [
    "sns.boxplot(x='stroke',y='avg_glucose_level', data=df)\n",
    "plt.show()\n",
    "\n",
    "sns.boxplot(x='stroke',y='avg_glucose_level', data=df_obesity)\n",
    "plt.show()"
   ]
  },
  {
   "cell_type": "markdown",
   "id": "3c618511",
   "metadata": {},
   "source": [
    "###  Observation (14)\n",
    "When filtering out overweight people, it can be noticed that the median of the average glucose level increased (from 100 to 150 mg/dL ) for people who has a stroke. It should be borne in mind that the body mass index may also be categorized for correct analysis"
   ]
  },
  {
   "cell_type": "markdown",
   "id": "670f05df",
   "metadata": {},
   "source": [
    "# 2. Data cleaning and processing"
   ]
  },
  {
   "cell_type": "code",
   "execution_count": 29,
   "id": "2d692613",
   "metadata": {},
   "outputs": [],
   "source": [
    "df_clean = df.drop([\"id\"],axis=1) #Deleted an unnecessary column"
   ]
  },
  {
   "cell_type": "code",
   "execution_count": 30,
   "id": "5f8ebe05",
   "metadata": {},
   "outputs": [],
   "source": [
    "df_clean = df_clean.fillna(np.mean(df['bmi'])).round(2) #Filled in the missing values"
   ]
  },
  {
   "cell_type": "code",
   "execution_count": 31,
   "id": "7ffe7d39",
   "metadata": {},
   "outputs": [],
   "source": [
    "df_clean.loc[df_clean.gender == 'Other', 'gender'] = 'Male' #Pre-processed the value"
   ]
  },
  {
   "cell_type": "code",
   "execution_count": 32,
   "id": "81852170",
   "metadata": {},
   "outputs": [],
   "source": [
    "df_clean.loc[df.work_type == \"children\",\"smoking_status\"] = 'never smoked'"
   ]
  },
  {
   "cell_type": "code",
   "execution_count": 33,
   "id": "cc281077",
   "metadata": {
    "scrolled": true
   },
   "outputs": [],
   "source": [
    "df_clean.loc[(df_clean['smoking_status'] == 'Unknown') & (df_clean['gender'] == 'Male'),\"smoking_status\"] = 'smokes'"
   ]
  },
  {
   "cell_type": "code",
   "execution_count": 34,
   "id": "de7e3162",
   "metadata": {
    "scrolled": true
   },
   "outputs": [],
   "source": [
    "df_clean.loc[(df_clean['smoking_status'] == 'Unknown') & (df_clean['gender'] == 'Female'),\"smoking_status\"] = 'never smoked'"
   ]
  },
  {
   "cell_type": "code",
   "execution_count": 35,
   "id": "09da5303",
   "metadata": {
    "scrolled": false
   },
   "outputs": [
    {
     "data": {
      "text/plain": [
       "never smoked       3069\n",
       "smokes             1169\n",
       "formerly smoked     872\n",
       "Name: smoking_status, dtype: int64"
      ]
     },
     "execution_count": 35,
     "metadata": {},
     "output_type": "execute_result"
    }
   ],
   "source": [
    "df_clean.smoking_status.value_counts()"
   ]
  },
  {
   "cell_type": "markdown",
   "id": "cd236e31",
   "metadata": {},
   "source": [
    "# 3. Feature engineering"
   ]
  },
  {
   "cell_type": "code",
   "execution_count": 36,
   "id": "17f24050",
   "metadata": {},
   "outputs": [],
   "source": [
    "df_clean['gender'] = df_clean['gender'].replace({'Male':0,'Female':1}).astype(np.uint8)\n",
    "df_clean['ever_married'] = df_clean['ever_married'].replace({'No':0,'Yes':1}).astype(np.uint8)\n",
    "df_clean['work_type'] = df_clean['work_type'].replace({'Private':0,'Self-employed':1,'Govt_job':2,'children':3,'Never_worked':4}).astype(np.uint8)\n",
    "df_clean['Residence_type'] = df_clean['Residence_type'].replace({'Rural':0,'Urban':1}).astype(np.uint8)\n",
    "df_clean['smoking_status'] = df_clean['smoking_status'].replace({'never smoked':0,'smokes':1,'formerly smoked':2}).astype(np.uint8)"
   ]
  },
  {
   "cell_type": "code",
   "execution_count": 37,
   "id": "ee56f4bd",
   "metadata": {},
   "outputs": [],
   "source": [
    "def bmi_condition(x):\n",
    "    if x>30:\n",
    "        return 1 # Obese\n",
    "    elif x<18.5:\n",
    "        return 2 # Underweight\n",
    "    elif x >=25: \n",
    "        return 3 # Overweight\n",
    "    else:\n",
    "        return 0 # Good"
   ]
  },
  {
   "cell_type": "code",
   "execution_count": 38,
   "id": "75a965fa",
   "metadata": {
    "scrolled": true
   },
   "outputs": [],
   "source": [
    "df_clean['bmi_norm']=df_clean['bmi'].apply(bmi_condition) "
   ]
  },
  {
   "cell_type": "code",
   "execution_count": 39,
   "id": "c5edcb96",
   "metadata": {},
   "outputs": [],
   "source": [
    "def glucose_level_condition(x):\n",
    "    if x<140:\n",
    "        return 0 # Normal\n",
    "    elif x>200:\n",
    "        return 1 # Diabetes\n",
    "    else:\n",
    "        return 2 # Prediabetes"
   ]
  },
  {
   "cell_type": "code",
   "execution_count": 40,
   "id": "b4f2bbb0",
   "metadata": {
    "scrolled": true
   },
   "outputs": [],
   "source": [
    "df_clean['avg_glucose_level_norm']=df_clean['avg_glucose_level'].apply(glucose_level_condition) "
   ]
  },
  {
   "cell_type": "code",
   "execution_count": 41,
   "id": "11b79bd4",
   "metadata": {},
   "outputs": [],
   "source": [
    "df_clean.drop(columns=['bmi','avg_glucose_level'],inplace=True)"
   ]
  },
  {
   "cell_type": "code",
   "execution_count": 42,
   "id": "c3e01365",
   "metadata": {},
   "outputs": [
    {
     "data": {
      "text/html": [
       "<div>\n",
       "<style scoped>\n",
       "    .dataframe tbody tr th:only-of-type {\n",
       "        vertical-align: middle;\n",
       "    }\n",
       "\n",
       "    .dataframe tbody tr th {\n",
       "        vertical-align: top;\n",
       "    }\n",
       "\n",
       "    .dataframe thead th {\n",
       "        text-align: right;\n",
       "    }\n",
       "</style>\n",
       "<table border=\"1\" class=\"dataframe\">\n",
       "  <thead>\n",
       "    <tr style=\"text-align: right;\">\n",
       "      <th></th>\n",
       "      <th>gender</th>\n",
       "      <th>age</th>\n",
       "      <th>hypertension</th>\n",
       "      <th>heart_disease</th>\n",
       "      <th>ever_married</th>\n",
       "      <th>work_type</th>\n",
       "      <th>Residence_type</th>\n",
       "      <th>smoking_status</th>\n",
       "      <th>stroke</th>\n",
       "      <th>bmi_norm</th>\n",
       "      <th>avg_glucose_level_norm</th>\n",
       "    </tr>\n",
       "  </thead>\n",
       "  <tbody>\n",
       "    <tr>\n",
       "      <th>0</th>\n",
       "      <td>0</td>\n",
       "      <td>67.0</td>\n",
       "      <td>0</td>\n",
       "      <td>1</td>\n",
       "      <td>1</td>\n",
       "      <td>0</td>\n",
       "      <td>1</td>\n",
       "      <td>2</td>\n",
       "      <td>1</td>\n",
       "      <td>1</td>\n",
       "      <td>1</td>\n",
       "    </tr>\n",
       "    <tr>\n",
       "      <th>1</th>\n",
       "      <td>1</td>\n",
       "      <td>61.0</td>\n",
       "      <td>0</td>\n",
       "      <td>0</td>\n",
       "      <td>1</td>\n",
       "      <td>1</td>\n",
       "      <td>0</td>\n",
       "      <td>0</td>\n",
       "      <td>1</td>\n",
       "      <td>3</td>\n",
       "      <td>1</td>\n",
       "    </tr>\n",
       "    <tr>\n",
       "      <th>2</th>\n",
       "      <td>0</td>\n",
       "      <td>80.0</td>\n",
       "      <td>0</td>\n",
       "      <td>1</td>\n",
       "      <td>1</td>\n",
       "      <td>0</td>\n",
       "      <td>0</td>\n",
       "      <td>0</td>\n",
       "      <td>1</td>\n",
       "      <td>1</td>\n",
       "      <td>0</td>\n",
       "    </tr>\n",
       "    <tr>\n",
       "      <th>3</th>\n",
       "      <td>1</td>\n",
       "      <td>49.0</td>\n",
       "      <td>0</td>\n",
       "      <td>0</td>\n",
       "      <td>1</td>\n",
       "      <td>0</td>\n",
       "      <td>1</td>\n",
       "      <td>1</td>\n",
       "      <td>1</td>\n",
       "      <td>1</td>\n",
       "      <td>2</td>\n",
       "    </tr>\n",
       "    <tr>\n",
       "      <th>4</th>\n",
       "      <td>1</td>\n",
       "      <td>79.0</td>\n",
       "      <td>1</td>\n",
       "      <td>0</td>\n",
       "      <td>1</td>\n",
       "      <td>1</td>\n",
       "      <td>0</td>\n",
       "      <td>0</td>\n",
       "      <td>1</td>\n",
       "      <td>0</td>\n",
       "      <td>2</td>\n",
       "    </tr>\n",
       "    <tr>\n",
       "      <th>...</th>\n",
       "      <td>...</td>\n",
       "      <td>...</td>\n",
       "      <td>...</td>\n",
       "      <td>...</td>\n",
       "      <td>...</td>\n",
       "      <td>...</td>\n",
       "      <td>...</td>\n",
       "      <td>...</td>\n",
       "      <td>...</td>\n",
       "      <td>...</td>\n",
       "      <td>...</td>\n",
       "    </tr>\n",
       "    <tr>\n",
       "      <th>5105</th>\n",
       "      <td>1</td>\n",
       "      <td>80.0</td>\n",
       "      <td>1</td>\n",
       "      <td>0</td>\n",
       "      <td>1</td>\n",
       "      <td>0</td>\n",
       "      <td>1</td>\n",
       "      <td>0</td>\n",
       "      <td>0</td>\n",
       "      <td>3</td>\n",
       "      <td>0</td>\n",
       "    </tr>\n",
       "    <tr>\n",
       "      <th>5106</th>\n",
       "      <td>1</td>\n",
       "      <td>81.0</td>\n",
       "      <td>0</td>\n",
       "      <td>0</td>\n",
       "      <td>1</td>\n",
       "      <td>1</td>\n",
       "      <td>1</td>\n",
       "      <td>0</td>\n",
       "      <td>0</td>\n",
       "      <td>1</td>\n",
       "      <td>0</td>\n",
       "    </tr>\n",
       "    <tr>\n",
       "      <th>5107</th>\n",
       "      <td>1</td>\n",
       "      <td>35.0</td>\n",
       "      <td>0</td>\n",
       "      <td>0</td>\n",
       "      <td>1</td>\n",
       "      <td>1</td>\n",
       "      <td>0</td>\n",
       "      <td>0</td>\n",
       "      <td>0</td>\n",
       "      <td>1</td>\n",
       "      <td>0</td>\n",
       "    </tr>\n",
       "    <tr>\n",
       "      <th>5108</th>\n",
       "      <td>0</td>\n",
       "      <td>51.0</td>\n",
       "      <td>0</td>\n",
       "      <td>0</td>\n",
       "      <td>1</td>\n",
       "      <td>0</td>\n",
       "      <td>0</td>\n",
       "      <td>2</td>\n",
       "      <td>0</td>\n",
       "      <td>3</td>\n",
       "      <td>2</td>\n",
       "    </tr>\n",
       "    <tr>\n",
       "      <th>5109</th>\n",
       "      <td>1</td>\n",
       "      <td>44.0</td>\n",
       "      <td>0</td>\n",
       "      <td>0</td>\n",
       "      <td>1</td>\n",
       "      <td>2</td>\n",
       "      <td>1</td>\n",
       "      <td>0</td>\n",
       "      <td>0</td>\n",
       "      <td>3</td>\n",
       "      <td>0</td>\n",
       "    </tr>\n",
       "  </tbody>\n",
       "</table>\n",
       "<p>5110 rows × 11 columns</p>\n",
       "</div>"
      ],
      "text/plain": [
       "      gender   age  hypertension  heart_disease  ever_married  work_type  \\\n",
       "0          0  67.0             0              1             1          0   \n",
       "1          1  61.0             0              0             1          1   \n",
       "2          0  80.0             0              1             1          0   \n",
       "3          1  49.0             0              0             1          0   \n",
       "4          1  79.0             1              0             1          1   \n",
       "...      ...   ...           ...            ...           ...        ...   \n",
       "5105       1  80.0             1              0             1          0   \n",
       "5106       1  81.0             0              0             1          1   \n",
       "5107       1  35.0             0              0             1          1   \n",
       "5108       0  51.0             0              0             1          0   \n",
       "5109       1  44.0             0              0             1          2   \n",
       "\n",
       "      Residence_type  smoking_status  stroke  bmi_norm  avg_glucose_level_norm  \n",
       "0                  1               2       1         1                       1  \n",
       "1                  0               0       1         3                       1  \n",
       "2                  0               0       1         1                       0  \n",
       "3                  1               1       1         1                       2  \n",
       "4                  0               0       1         0                       2  \n",
       "...              ...             ...     ...       ...                     ...  \n",
       "5105               1               0       0         3                       0  \n",
       "5106               1               0       0         1                       0  \n",
       "5107               0               0       0         1                       0  \n",
       "5108               0               2       0         3                       2  \n",
       "5109               1               0       0         3                       0  \n",
       "\n",
       "[5110 rows x 11 columns]"
      ]
     },
     "execution_count": 42,
     "metadata": {},
     "output_type": "execute_result"
    }
   ],
   "source": [
    "df_clean"
   ]
  },
  {
   "cell_type": "markdown",
   "id": "b9702568",
   "metadata": {},
   "source": [
    "# 4. Choice justification"
   ]
  },
  {
   "cell_type": "code",
   "execution_count": 43,
   "id": "e54c2bb8",
   "metadata": {},
   "outputs": [],
   "source": [
    "from statsmodels.stats.outliers_influence import variance_inflation_factor"
   ]
  },
  {
   "cell_type": "code",
   "execution_count": 44,
   "id": "17e122f9",
   "metadata": {},
   "outputs": [],
   "source": [
    "X = df_clean[['gender', 'age', 'hypertension','heart_disease', 'ever_married', 'work_type','Residence_type', 'smoking_status', 'bmi_norm','avg_glucose_level_norm']]"
   ]
  },
  {
   "cell_type": "code",
   "execution_count": 45,
   "id": "42f93a4f",
   "metadata": {},
   "outputs": [],
   "source": [
    "vif_data = pd.DataFrame()\n",
    "vif_data[\"feature\"] = X.columns"
   ]
  },
  {
   "cell_type": "code",
   "execution_count": 46,
   "id": "f3ced326",
   "metadata": {},
   "outputs": [
    {
     "name": "stdout",
     "output_type": "stream",
     "text": [
      "                  feature       VIF\n",
      "0                  gender  2.146042\n",
      "1                     age  8.740056\n",
      "2            hypertension  1.214140\n",
      "3           heart_disease  1.159612\n",
      "4            ever_married  5.531193\n",
      "5               work_type  1.388758\n",
      "6          Residence_type  1.880368\n",
      "7          smoking_status  1.733029\n",
      "8                bmi_norm  2.386141\n",
      "9  avg_glucose_level_norm  1.236364\n"
     ]
    }
   ],
   "source": [
    "vif_data[\"VIF\"] = [variance_inflation_factor(X.values, i)\n",
    "                          for i in range(len(X.columns))]\n",
    "  \n",
    "print(vif_data)"
   ]
  },
  {
   "cell_type": "markdown",
   "id": "423e2f70",
   "metadata": {},
   "source": [
    "### Observation (15)\n",
    "The variance inflation factor indicates that two features (age and ever_married, VIF>5) have potentially strong correlation between them and other independent variables. One of them should be excluded.  And since, \"age\" is super important for further analysis therefore the ever_married column must be deleted to avoid multicollinearity."
   ]
  },
  {
   "cell_type": "code",
   "execution_count": 47,
   "id": "9b79a5fe",
   "metadata": {},
   "outputs": [],
   "source": [
    "df_clean.drop(columns=['ever_married'],inplace=True)"
   ]
  },
  {
   "cell_type": "code",
   "execution_count": 48,
   "id": "1e7a484a",
   "metadata": {},
   "outputs": [
    {
     "data": {
      "text/html": [
       "<div>\n",
       "<style scoped>\n",
       "    .dataframe tbody tr th:only-of-type {\n",
       "        vertical-align: middle;\n",
       "    }\n",
       "\n",
       "    .dataframe tbody tr th {\n",
       "        vertical-align: top;\n",
       "    }\n",
       "\n",
       "    .dataframe thead th {\n",
       "        text-align: right;\n",
       "    }\n",
       "</style>\n",
       "<table border=\"1\" class=\"dataframe\">\n",
       "  <thead>\n",
       "    <tr style=\"text-align: right;\">\n",
       "      <th></th>\n",
       "      <th>gender</th>\n",
       "      <th>age</th>\n",
       "      <th>hypertension</th>\n",
       "      <th>heart_disease</th>\n",
       "      <th>work_type</th>\n",
       "      <th>Residence_type</th>\n",
       "      <th>smoking_status</th>\n",
       "      <th>stroke</th>\n",
       "      <th>bmi_norm</th>\n",
       "      <th>avg_glucose_level_norm</th>\n",
       "    </tr>\n",
       "  </thead>\n",
       "  <tbody>\n",
       "    <tr>\n",
       "      <th>0</th>\n",
       "      <td>0</td>\n",
       "      <td>67.0</td>\n",
       "      <td>0</td>\n",
       "      <td>1</td>\n",
       "      <td>0</td>\n",
       "      <td>1</td>\n",
       "      <td>2</td>\n",
       "      <td>1</td>\n",
       "      <td>1</td>\n",
       "      <td>1</td>\n",
       "    </tr>\n",
       "    <tr>\n",
       "      <th>1</th>\n",
       "      <td>1</td>\n",
       "      <td>61.0</td>\n",
       "      <td>0</td>\n",
       "      <td>0</td>\n",
       "      <td>1</td>\n",
       "      <td>0</td>\n",
       "      <td>0</td>\n",
       "      <td>1</td>\n",
       "      <td>3</td>\n",
       "      <td>1</td>\n",
       "    </tr>\n",
       "    <tr>\n",
       "      <th>2</th>\n",
       "      <td>0</td>\n",
       "      <td>80.0</td>\n",
       "      <td>0</td>\n",
       "      <td>1</td>\n",
       "      <td>0</td>\n",
       "      <td>0</td>\n",
       "      <td>0</td>\n",
       "      <td>1</td>\n",
       "      <td>1</td>\n",
       "      <td>0</td>\n",
       "    </tr>\n",
       "    <tr>\n",
       "      <th>3</th>\n",
       "      <td>1</td>\n",
       "      <td>49.0</td>\n",
       "      <td>0</td>\n",
       "      <td>0</td>\n",
       "      <td>0</td>\n",
       "      <td>1</td>\n",
       "      <td>1</td>\n",
       "      <td>1</td>\n",
       "      <td>1</td>\n",
       "      <td>2</td>\n",
       "    </tr>\n",
       "    <tr>\n",
       "      <th>4</th>\n",
       "      <td>1</td>\n",
       "      <td>79.0</td>\n",
       "      <td>1</td>\n",
       "      <td>0</td>\n",
       "      <td>1</td>\n",
       "      <td>0</td>\n",
       "      <td>0</td>\n",
       "      <td>1</td>\n",
       "      <td>0</td>\n",
       "      <td>2</td>\n",
       "    </tr>\n",
       "    <tr>\n",
       "      <th>...</th>\n",
       "      <td>...</td>\n",
       "      <td>...</td>\n",
       "      <td>...</td>\n",
       "      <td>...</td>\n",
       "      <td>...</td>\n",
       "      <td>...</td>\n",
       "      <td>...</td>\n",
       "      <td>...</td>\n",
       "      <td>...</td>\n",
       "      <td>...</td>\n",
       "    </tr>\n",
       "    <tr>\n",
       "      <th>5105</th>\n",
       "      <td>1</td>\n",
       "      <td>80.0</td>\n",
       "      <td>1</td>\n",
       "      <td>0</td>\n",
       "      <td>0</td>\n",
       "      <td>1</td>\n",
       "      <td>0</td>\n",
       "      <td>0</td>\n",
       "      <td>3</td>\n",
       "      <td>0</td>\n",
       "    </tr>\n",
       "    <tr>\n",
       "      <th>5106</th>\n",
       "      <td>1</td>\n",
       "      <td>81.0</td>\n",
       "      <td>0</td>\n",
       "      <td>0</td>\n",
       "      <td>1</td>\n",
       "      <td>1</td>\n",
       "      <td>0</td>\n",
       "      <td>0</td>\n",
       "      <td>1</td>\n",
       "      <td>0</td>\n",
       "    </tr>\n",
       "    <tr>\n",
       "      <th>5107</th>\n",
       "      <td>1</td>\n",
       "      <td>35.0</td>\n",
       "      <td>0</td>\n",
       "      <td>0</td>\n",
       "      <td>1</td>\n",
       "      <td>0</td>\n",
       "      <td>0</td>\n",
       "      <td>0</td>\n",
       "      <td>1</td>\n",
       "      <td>0</td>\n",
       "    </tr>\n",
       "    <tr>\n",
       "      <th>5108</th>\n",
       "      <td>0</td>\n",
       "      <td>51.0</td>\n",
       "      <td>0</td>\n",
       "      <td>0</td>\n",
       "      <td>0</td>\n",
       "      <td>0</td>\n",
       "      <td>2</td>\n",
       "      <td>0</td>\n",
       "      <td>3</td>\n",
       "      <td>2</td>\n",
       "    </tr>\n",
       "    <tr>\n",
       "      <th>5109</th>\n",
       "      <td>1</td>\n",
       "      <td>44.0</td>\n",
       "      <td>0</td>\n",
       "      <td>0</td>\n",
       "      <td>2</td>\n",
       "      <td>1</td>\n",
       "      <td>0</td>\n",
       "      <td>0</td>\n",
       "      <td>3</td>\n",
       "      <td>0</td>\n",
       "    </tr>\n",
       "  </tbody>\n",
       "</table>\n",
       "<p>5110 rows × 10 columns</p>\n",
       "</div>"
      ],
      "text/plain": [
       "      gender   age  hypertension  heart_disease  work_type  Residence_type  \\\n",
       "0          0  67.0             0              1          0               1   \n",
       "1          1  61.0             0              0          1               0   \n",
       "2          0  80.0             0              1          0               0   \n",
       "3          1  49.0             0              0          0               1   \n",
       "4          1  79.0             1              0          1               0   \n",
       "...      ...   ...           ...            ...        ...             ...   \n",
       "5105       1  80.0             1              0          0               1   \n",
       "5106       1  81.0             0              0          1               1   \n",
       "5107       1  35.0             0              0          1               0   \n",
       "5108       0  51.0             0              0          0               0   \n",
       "5109       1  44.0             0              0          2               1   \n",
       "\n",
       "      smoking_status  stroke  bmi_norm  avg_glucose_level_norm  \n",
       "0                  2       1         1                       1  \n",
       "1                  0       1         3                       1  \n",
       "2                  0       1         1                       0  \n",
       "3                  1       1         1                       2  \n",
       "4                  0       1         0                       2  \n",
       "...              ...     ...       ...                     ...  \n",
       "5105               0       0         3                       0  \n",
       "5106               0       0         1                       0  \n",
       "5107               0       0         1                       0  \n",
       "5108               2       0         3                       2  \n",
       "5109               0       0         3                       0  \n",
       "\n",
       "[5110 rows x 10 columns]"
      ]
     },
     "execution_count": 48,
     "metadata": {},
     "output_type": "execute_result"
    }
   ],
   "source": [
    "df_clean"
   ]
  },
  {
   "cell_type": "code",
   "execution_count": 49,
   "id": "06876a69",
   "metadata": {},
   "outputs": [],
   "source": [
    "X = df_clean[['gender', 'age', 'hypertension','heart_disease', 'work_type','Residence_type', 'smoking_status', 'bmi_norm','avg_glucose_level_norm']]"
   ]
  },
  {
   "cell_type": "code",
   "execution_count": 50,
   "id": "56216165",
   "metadata": {},
   "outputs": [],
   "source": [
    "vif_data = pd.DataFrame()\n",
    "vif_data[\"feature\"] = X.columns"
   ]
  },
  {
   "cell_type": "code",
   "execution_count": 51,
   "id": "43886dff",
   "metadata": {},
   "outputs": [
    {
     "name": "stdout",
     "output_type": "stream",
     "text": [
      "                  feature       VIF\n",
      "0                  gender  2.141665\n",
      "1                     age  4.592968\n",
      "2            hypertension  1.213083\n",
      "3           heart_disease  1.149959\n",
      "4               work_type  1.373585\n",
      "5          Residence_type  1.879584\n",
      "6          smoking_status  1.727348\n",
      "7                bmi_norm  2.379997\n",
      "8  avg_glucose_level_norm  1.235995\n"
     ]
    }
   ],
   "source": [
    "vif_data[\"VIF\"] = [variance_inflation_factor(X.values, i)\n",
    "                          for i in range(len(X.columns))]\n",
    "  \n",
    "print(vif_data)"
   ]
  },
  {
   "cell_type": "markdown",
   "id": "fb1243b6",
   "metadata": {},
   "source": [
    "# 5. Model training and evaluation"
   ]
  },
  {
   "cell_type": "code",
   "execution_count": 52,
   "id": "de41749a",
   "metadata": {},
   "outputs": [],
   "source": [
    "from sklearn.model_selection import train_test_split"
   ]
  },
  {
   "cell_type": "code",
   "execution_count": 53,
   "id": "fa28fe7c",
   "metadata": {},
   "outputs": [],
   "source": [
    "df_train, df_test = train_test_split(df_clean,test_size=0.2)"
   ]
  },
  {
   "cell_type": "code",
   "execution_count": 54,
   "id": "fcbe9ad2",
   "metadata": {},
   "outputs": [
    {
     "data": {
      "text/plain": [
       "4088"
      ]
     },
     "execution_count": 54,
     "metadata": {},
     "output_type": "execute_result"
    }
   ],
   "source": [
    "len(df_train)"
   ]
  },
  {
   "cell_type": "code",
   "execution_count": 55,
   "id": "9d0a9fb1",
   "metadata": {},
   "outputs": [
    {
     "data": {
      "text/plain": [
       "1022"
      ]
     },
     "execution_count": 55,
     "metadata": {},
     "output_type": "execute_result"
    }
   ],
   "source": [
    "len(df_test)"
   ]
  },
  {
   "cell_type": "code",
   "execution_count": 56,
   "id": "e454af93",
   "metadata": {},
   "outputs": [],
   "source": [
    "X_train = df_train.copy()\n",
    "y_train = X_train.pop(\"stroke\")"
   ]
  },
  {
   "cell_type": "code",
   "execution_count": 57,
   "id": "b408c84d",
   "metadata": {},
   "outputs": [],
   "source": [
    "X_test = df_test.copy()\n",
    "y_test = X_test.pop(\"stroke\")"
   ]
  },
  {
   "cell_type": "code",
   "execution_count": 58,
   "id": "5639d993",
   "metadata": {},
   "outputs": [
    {
     "data": {
      "text/plain": [
       "(4088, 9)"
      ]
     },
     "execution_count": 58,
     "metadata": {},
     "output_type": "execute_result"
    }
   ],
   "source": [
    "X_train.shape"
   ]
  },
  {
   "cell_type": "code",
   "execution_count": 59,
   "id": "2da9c8c6",
   "metadata": {
    "scrolled": false
   },
   "outputs": [
    {
     "data": {
      "text/plain": [
       "(1022, 9)"
      ]
     },
     "execution_count": 59,
     "metadata": {},
     "output_type": "execute_result"
    }
   ],
   "source": [
    "X_test.shape"
   ]
  },
  {
   "cell_type": "code",
   "execution_count": 60,
   "id": "4b9a787e",
   "metadata": {},
   "outputs": [
    {
     "data": {
      "text/plain": [
       "0    3886\n",
       "1     202\n",
       "Name: stroke, dtype: int64"
      ]
     },
     "execution_count": 60,
     "metadata": {},
     "output_type": "execute_result"
    }
   ],
   "source": [
    "y_train.value_counts()"
   ]
  },
  {
   "cell_type": "code",
   "execution_count": 61,
   "id": "5178a328",
   "metadata": {},
   "outputs": [
    {
     "data": {
      "text/plain": [
       "0    975\n",
       "1     47\n",
       "Name: stroke, dtype: int64"
      ]
     },
     "execution_count": 61,
     "metadata": {},
     "output_type": "execute_result"
    }
   ],
   "source": [
    "y_test.value_counts()"
   ]
  },
  {
   "cell_type": "code",
   "execution_count": 62,
   "id": "2834f806",
   "metadata": {},
   "outputs": [],
   "source": [
    "from sklearn.linear_model import LogisticRegression\n",
    "from sklearn.tree import DecisionTreeClassifier\n",
    "from sklearn.ensemble import RandomForestClassifier\n",
    "from sklearn.svm import SVC\n",
    "from sklearn.neighbors import KNeighborsClassifier\n",
    "from sklearn.naive_bayes import GaussianNB\n",
    "from sklearn.neural_network import MLPClassifier\n",
    "from xgboost import XGBClassifier\n",
    "from sklearn.model_selection import train_test_split, GridSearchCV\n",
    "from sklearn.metrics import accuracy_score, precision_score, recall_score, f1_score, roc_auc_score, matthews_corrcoef, confusion_matrix"
   ]
  },
  {
   "cell_type": "code",
   "execution_count": 63,
   "id": "0d2f2f10",
   "metadata": {
    "scrolled": true
   },
   "outputs": [
    {
     "name": "stderr",
     "output_type": "stream",
     "text": [
      "C:\\Users\\Gali\\anaconda3\\lib\\site-packages\\sklearn\\metrics\\_classification.py:1318: UndefinedMetricWarning: Precision is ill-defined and being set to 0.0 due to no predicted samples. Use `zero_division` parameter to control this behavior.\n",
      "  _warn_prf(average, modifier, msg_start, len(result))\n",
      "C:\\Users\\Gali\\AppData\\Local\\Temp\\ipykernel_22868\\3975396247.py:34: FutureWarning: The frame.append method is deprecated and will be removed from pandas in a future version. Use pandas.concat instead.\n",
      "  results_df = results_df.append({\n",
      "C:\\Users\\Gali\\AppData\\Local\\Temp\\ipykernel_22868\\3975396247.py:34: FutureWarning: The frame.append method is deprecated and will be removed from pandas in a future version. Use pandas.concat instead.\n",
      "  results_df = results_df.append({\n",
      "C:\\Users\\Gali\\AppData\\Local\\Temp\\ipykernel_22868\\3975396247.py:34: FutureWarning: The frame.append method is deprecated and will be removed from pandas in a future version. Use pandas.concat instead.\n",
      "  results_df = results_df.append({\n",
      "C:\\Users\\Gali\\anaconda3\\lib\\site-packages\\sklearn\\metrics\\_classification.py:1318: UndefinedMetricWarning: Precision is ill-defined and being set to 0.0 due to no predicted samples. Use `zero_division` parameter to control this behavior.\n",
      "  _warn_prf(average, modifier, msg_start, len(result))\n",
      "C:\\Users\\Gali\\AppData\\Local\\Temp\\ipykernel_22868\\3975396247.py:34: FutureWarning: The frame.append method is deprecated and will be removed from pandas in a future version. Use pandas.concat instead.\n",
      "  results_df = results_df.append({\n",
      "C:\\Users\\Gali\\anaconda3\\lib\\site-packages\\sklearn\\neighbors\\_classification.py:228: FutureWarning: Unlike other reduction functions (e.g. `skew`, `kurtosis`), the default behavior of `mode` typically preserves the axis it acts along. In SciPy 1.11.0, this behavior will change: the default value of `keepdims` will become False, the `axis` over which the statistic is taken will be eliminated, and the value None will no longer be accepted. Set `keepdims` to True or False to avoid this warning.\n",
      "  mode, _ = stats.mode(_y[neigh_ind, k], axis=1)\n",
      "C:\\Users\\Gali\\AppData\\Local\\Temp\\ipykernel_22868\\3975396247.py:34: FutureWarning: The frame.append method is deprecated and will be removed from pandas in a future version. Use pandas.concat instead.\n",
      "  results_df = results_df.append({\n",
      "C:\\Users\\Gali\\AppData\\Local\\Temp\\ipykernel_22868\\3975396247.py:34: FutureWarning: The frame.append method is deprecated and will be removed from pandas in a future version. Use pandas.concat instead.\n",
      "  results_df = results_df.append({\n",
      "C:\\Users\\Gali\\AppData\\Local\\Temp\\ipykernel_22868\\3975396247.py:34: FutureWarning: The frame.append method is deprecated and will be removed from pandas in a future version. Use pandas.concat instead.\n",
      "  results_df = results_df.append({\n",
      "C:\\Users\\Gali\\AppData\\Local\\Temp\\ipykernel_22868\\3975396247.py:34: FutureWarning: The frame.append method is deprecated and will be removed from pandas in a future version. Use pandas.concat instead.\n",
      "  results_df = results_df.append({\n"
     ]
    },
    {
     "data": {
      "text/html": [
       "<div>\n",
       "<style scoped>\n",
       "    .dataframe tbody tr th:only-of-type {\n",
       "        vertical-align: middle;\n",
       "    }\n",
       "\n",
       "    .dataframe tbody tr th {\n",
       "        vertical-align: top;\n",
       "    }\n",
       "\n",
       "    .dataframe thead th {\n",
       "        text-align: right;\n",
       "    }\n",
       "</style>\n",
       "<table border=\"1\" class=\"dataframe\">\n",
       "  <thead>\n",
       "    <tr style=\"text-align: right;\">\n",
       "      <th></th>\n",
       "      <th>Model</th>\n",
       "      <th>Accuracy</th>\n",
       "      <th>Precision</th>\n",
       "      <th>Recall</th>\n",
       "      <th>F1 Score</th>\n",
       "      <th>ROC AUC</th>\n",
       "      <th>MCC</th>\n",
       "      <th>TP</th>\n",
       "      <th>TN</th>\n",
       "      <th>FP</th>\n",
       "      <th>FN</th>\n",
       "    </tr>\n",
       "  </thead>\n",
       "  <tbody>\n",
       "    <tr>\n",
       "      <th>0</th>\n",
       "      <td>Logistic Regression</td>\n",
       "      <td>0.954012</td>\n",
       "      <td>0.000000</td>\n",
       "      <td>0.000000</td>\n",
       "      <td>0.000000</td>\n",
       "      <td>0.856247</td>\n",
       "      <td>0.000000</td>\n",
       "      <td>0</td>\n",
       "      <td>975</td>\n",
       "      <td>0</td>\n",
       "      <td>47</td>\n",
       "    </tr>\n",
       "    <tr>\n",
       "      <th>1</th>\n",
       "      <td>Decision Tree</td>\n",
       "      <td>0.925636</td>\n",
       "      <td>0.146341</td>\n",
       "      <td>0.127660</td>\n",
       "      <td>0.136364</td>\n",
       "      <td>0.550802</td>\n",
       "      <td>0.097946</td>\n",
       "      <td>6</td>\n",
       "      <td>940</td>\n",
       "      <td>35</td>\n",
       "      <td>41</td>\n",
       "    </tr>\n",
       "    <tr>\n",
       "      <th>2</th>\n",
       "      <td>Random Forest</td>\n",
       "      <td>0.943249</td>\n",
       "      <td>0.176471</td>\n",
       "      <td>0.063830</td>\n",
       "      <td>0.093750</td>\n",
       "      <td>0.759520</td>\n",
       "      <td>0.081020</td>\n",
       "      <td>3</td>\n",
       "      <td>961</td>\n",
       "      <td>14</td>\n",
       "      <td>44</td>\n",
       "    </tr>\n",
       "    <tr>\n",
       "      <th>3</th>\n",
       "      <td>Support Vector Machine</td>\n",
       "      <td>0.954012</td>\n",
       "      <td>0.000000</td>\n",
       "      <td>0.000000</td>\n",
       "      <td>0.000000</td>\n",
       "      <td>0.529438</td>\n",
       "      <td>0.000000</td>\n",
       "      <td>0</td>\n",
       "      <td>975</td>\n",
       "      <td>0</td>\n",
       "      <td>47</td>\n",
       "    </tr>\n",
       "    <tr>\n",
       "      <th>4</th>\n",
       "      <td>K-Nearest Neighbors</td>\n",
       "      <td>0.952055</td>\n",
       "      <td>0.375000</td>\n",
       "      <td>0.063830</td>\n",
       "      <td>0.109091</td>\n",
       "      <td>0.670627</td>\n",
       "      <td>0.139520</td>\n",
       "      <td>3</td>\n",
       "      <td>970</td>\n",
       "      <td>5</td>\n",
       "      <td>44</td>\n",
       "    </tr>\n",
       "    <tr>\n",
       "      <th>5</th>\n",
       "      <td>Naive Bayes</td>\n",
       "      <td>0.875734</td>\n",
       "      <td>0.172131</td>\n",
       "      <td>0.446809</td>\n",
       "      <td>0.248521</td>\n",
       "      <td>0.841735</td>\n",
       "      <td>0.221728</td>\n",
       "      <td>21</td>\n",
       "      <td>874</td>\n",
       "      <td>101</td>\n",
       "      <td>26</td>\n",
       "    </tr>\n",
       "    <tr>\n",
       "      <th>6</th>\n",
       "      <td>Neural Network</td>\n",
       "      <td>0.954990</td>\n",
       "      <td>0.600000</td>\n",
       "      <td>0.063830</td>\n",
       "      <td>0.115385</td>\n",
       "      <td>0.833792</td>\n",
       "      <td>0.185457</td>\n",
       "      <td>3</td>\n",
       "      <td>973</td>\n",
       "      <td>2</td>\n",
       "      <td>44</td>\n",
       "    </tr>\n",
       "    <tr>\n",
       "      <th>7</th>\n",
       "      <td>XGBoost</td>\n",
       "      <td>0.943249</td>\n",
       "      <td>0.176471</td>\n",
       "      <td>0.063830</td>\n",
       "      <td>0.093750</td>\n",
       "      <td>0.765968</td>\n",
       "      <td>0.081020</td>\n",
       "      <td>3</td>\n",
       "      <td>961</td>\n",
       "      <td>14</td>\n",
       "      <td>44</td>\n",
       "    </tr>\n",
       "  </tbody>\n",
       "</table>\n",
       "</div>"
      ],
      "text/plain": [
       "                    Model  Accuracy  Precision    Recall  F1 Score   ROC AUC  \\\n",
       "0     Logistic Regression  0.954012   0.000000  0.000000  0.000000  0.856247   \n",
       "1           Decision Tree  0.925636   0.146341  0.127660  0.136364  0.550802   \n",
       "2           Random Forest  0.943249   0.176471  0.063830  0.093750  0.759520   \n",
       "3  Support Vector Machine  0.954012   0.000000  0.000000  0.000000  0.529438   \n",
       "4     K-Nearest Neighbors  0.952055   0.375000  0.063830  0.109091  0.670627   \n",
       "5             Naive Bayes  0.875734   0.172131  0.446809  0.248521  0.841735   \n",
       "6          Neural Network  0.954990   0.600000  0.063830  0.115385  0.833792   \n",
       "7                 XGBoost  0.943249   0.176471  0.063830  0.093750  0.765968   \n",
       "\n",
       "        MCC  TP   TN   FP  FN  \n",
       "0  0.000000   0  975    0  47  \n",
       "1  0.097946   6  940   35  41  \n",
       "2  0.081020   3  961   14  44  \n",
       "3  0.000000   0  975    0  47  \n",
       "4  0.139520   3  970    5  44  \n",
       "5  0.221728  21  874  101  26  \n",
       "6  0.185457   3  973    2  44  \n",
       "7  0.081020   3  961   14  44  "
      ]
     },
     "execution_count": 63,
     "metadata": {},
     "output_type": "execute_result"
    }
   ],
   "source": [
    "# Create a list of classifiers\n",
    "classifiers = [\n",
    "    ('Logistic Regression', LogisticRegression(max_iter=1000)),\n",
    "    ('Decision Tree', DecisionTreeClassifier()),\n",
    "    ('Random Forest', RandomForestClassifier()),\n",
    "    ('Support Vector Machine', SVC(probability=True)),  \n",
    "    ('K-Nearest Neighbors', KNeighborsClassifier()),\n",
    "    ('Naive Bayes', GaussianNB()),\n",
    "    ('Neural Network', MLPClassifier(max_iter=1000)),\n",
    "    ('XGBoost', XGBClassifier())\n",
    "]\n",
    "\n",
    "# Create an empty DataFrame to store the results\n",
    "results_df = pd.DataFrame(columns=['Model', 'Accuracy', 'Precision', 'Recall', 'F1 Score', 'ROC AUC','MCC','TP','TN','FP','FN'])\n",
    "\n",
    "# Train and evaluate each classifier\n",
    "for name, clf in classifiers:\n",
    "    clf.fit(X_train, y_train)\n",
    "    y_pred = clf.predict(X_test)\n",
    "    \n",
    "    accuracy = accuracy_score(y_test, y_pred)\n",
    "    precision = precision_score(y_test, y_pred)\n",
    "    recall = recall_score(y_test, y_pred)\n",
    "    f1 = f1_score(y_test, y_pred)\n",
    "    tn, fp, fn, tp = confusion_matrix(y_test, y_pred).ravel()\n",
    "    mcc = matthews_corrcoef(y_test,y_pred)\n",
    "\n",
    "    # Calculate ROC AUC only if predict_proba is available\n",
    "    if hasattr(clf, \"predict_proba\"):\n",
    "        roc_auc = roc_auc_score(y_test, clf.predict_proba(X_test)[:, 1])\n",
    "    else:\n",
    "        roc_auc = None\n",
    "    \n",
    "    results_df = results_df.append({\n",
    "        'Model': name,\n",
    "        'Accuracy': accuracy,\n",
    "        'Precision': precision,\n",
    "        'Recall': recall,\n",
    "        'F1 Score': f1,\n",
    "        'ROC AUC': roc_auc,\n",
    "        'MCC': mcc,\n",
    "        'TP': tp,\n",
    "        'TN': tn,\n",
    "        'FP': fp,\n",
    "        'FN': fn,\n",
    "    }, ignore_index=True)\n",
    "\n",
    "# Display the results DataFrame\n",
    "pd.DataFrame(results_df)"
   ]
  },
  {
   "cell_type": "code",
   "execution_count": 64,
   "id": "3f85ad24",
   "metadata": {
    "scrolled": false
   },
   "outputs": [
    {
     "name": "stderr",
     "output_type": "stream",
     "text": [
      "C:\\Users\\Gali\\anaconda3\\lib\\site-packages\\sklearn\\metrics\\_classification.py:1318: UndefinedMetricWarning: Precision is ill-defined and being set to 0.0 due to no predicted samples. Use `zero_division` parameter to control this behavior.\n",
      "  _warn_prf(average, modifier, msg_start, len(result))\n",
      "C:\\Users\\Gali\\AppData\\Local\\Temp\\ipykernel_22868\\2826293444.py:37: FutureWarning: The frame.append method is deprecated and will be removed from pandas in a future version. Use pandas.concat instead.\n",
      "  results_df_params = results_df_params.append({\n",
      "C:\\Users\\Gali\\AppData\\Local\\Temp\\ipykernel_22868\\2826293444.py:37: FutureWarning: The frame.append method is deprecated and will be removed from pandas in a future version. Use pandas.concat instead.\n",
      "  results_df_params = results_df_params.append({\n",
      "C:\\Users\\Gali\\AppData\\Local\\Temp\\ipykernel_22868\\2826293444.py:37: FutureWarning: The frame.append method is deprecated and will be removed from pandas in a future version. Use pandas.concat instead.\n",
      "  results_df_params = results_df_params.append({\n",
      "C:\\Users\\Gali\\anaconda3\\lib\\site-packages\\sklearn\\metrics\\_classification.py:1318: UndefinedMetricWarning: Precision is ill-defined and being set to 0.0 due to no predicted samples. Use `zero_division` parameter to control this behavior.\n",
      "  _warn_prf(average, modifier, msg_start, len(result))\n",
      "C:\\Users\\Gali\\AppData\\Local\\Temp\\ipykernel_22868\\2826293444.py:37: FutureWarning: The frame.append method is deprecated and will be removed from pandas in a future version. Use pandas.concat instead.\n",
      "  results_df_params = results_df_params.append({\n",
      "C:\\Users\\Gali\\anaconda3\\lib\\site-packages\\sklearn\\neighbors\\_classification.py:228: FutureWarning: Unlike other reduction functions (e.g. `skew`, `kurtosis`), the default behavior of `mode` typically preserves the axis it acts along. In SciPy 1.11.0, this behavior will change: the default value of `keepdims` will become False, the `axis` over which the statistic is taken will be eliminated, and the value None will no longer be accepted. Set `keepdims` to True or False to avoid this warning.\n",
      "  mode, _ = stats.mode(_y[neigh_ind, k], axis=1)\n",
      "C:\\Users\\Gali\\anaconda3\\lib\\site-packages\\sklearn\\neighbors\\_classification.py:228: FutureWarning: Unlike other reduction functions (e.g. `skew`, `kurtosis`), the default behavior of `mode` typically preserves the axis it acts along. In SciPy 1.11.0, this behavior will change: the default value of `keepdims` will become False, the `axis` over which the statistic is taken will be eliminated, and the value None will no longer be accepted. Set `keepdims` to True or False to avoid this warning.\n",
      "  mode, _ = stats.mode(_y[neigh_ind, k], axis=1)\n",
      "C:\\Users\\Gali\\anaconda3\\lib\\site-packages\\sklearn\\neighbors\\_classification.py:228: FutureWarning: Unlike other reduction functions (e.g. `skew`, `kurtosis`), the default behavior of `mode` typically preserves the axis it acts along. In SciPy 1.11.0, this behavior will change: the default value of `keepdims` will become False, the `axis` over which the statistic is taken will be eliminated, and the value None will no longer be accepted. Set `keepdims` to True or False to avoid this warning.\n",
      "  mode, _ = stats.mode(_y[neigh_ind, k], axis=1)\n",
      "C:\\Users\\Gali\\anaconda3\\lib\\site-packages\\sklearn\\neighbors\\_classification.py:228: FutureWarning: Unlike other reduction functions (e.g. `skew`, `kurtosis`), the default behavior of `mode` typically preserves the axis it acts along. In SciPy 1.11.0, this behavior will change: the default value of `keepdims` will become False, the `axis` over which the statistic is taken will be eliminated, and the value None will no longer be accepted. Set `keepdims` to True or False to avoid this warning.\n",
      "  mode, _ = stats.mode(_y[neigh_ind, k], axis=1)\n",
      "C:\\Users\\Gali\\anaconda3\\lib\\site-packages\\sklearn\\neighbors\\_classification.py:228: FutureWarning: Unlike other reduction functions (e.g. `skew`, `kurtosis`), the default behavior of `mode` typically preserves the axis it acts along. In SciPy 1.11.0, this behavior will change: the default value of `keepdims` will become False, the `axis` over which the statistic is taken will be eliminated, and the value None will no longer be accepted. Set `keepdims` to True or False to avoid this warning.\n",
      "  mode, _ = stats.mode(_y[neigh_ind, k], axis=1)\n",
      "C:\\Users\\Gali\\anaconda3\\lib\\site-packages\\sklearn\\neighbors\\_classification.py:228: FutureWarning: Unlike other reduction functions (e.g. `skew`, `kurtosis`), the default behavior of `mode` typically preserves the axis it acts along. In SciPy 1.11.0, this behavior will change: the default value of `keepdims` will become False, the `axis` over which the statistic is taken will be eliminated, and the value None will no longer be accepted. Set `keepdims` to True or False to avoid this warning.\n",
      "  mode, _ = stats.mode(_y[neigh_ind, k], axis=1)\n",
      "C:\\Users\\Gali\\anaconda3\\lib\\site-packages\\sklearn\\neighbors\\_classification.py:228: FutureWarning: Unlike other reduction functions (e.g. `skew`, `kurtosis`), the default behavior of `mode` typically preserves the axis it acts along. In SciPy 1.11.0, this behavior will change: the default value of `keepdims` will become False, the `axis` over which the statistic is taken will be eliminated, and the value None will no longer be accepted. Set `keepdims` to True or False to avoid this warning.\n",
      "  mode, _ = stats.mode(_y[neigh_ind, k], axis=1)\n",
      "C:\\Users\\Gali\\anaconda3\\lib\\site-packages\\sklearn\\neighbors\\_classification.py:228: FutureWarning: Unlike other reduction functions (e.g. `skew`, `kurtosis`), the default behavior of `mode` typically preserves the axis it acts along. In SciPy 1.11.0, this behavior will change: the default value of `keepdims` will become False, the `axis` over which the statistic is taken will be eliminated, and the value None will no longer be accepted. Set `keepdims` to True or False to avoid this warning.\n",
      "  mode, _ = stats.mode(_y[neigh_ind, k], axis=1)\n",
      "C:\\Users\\Gali\\anaconda3\\lib\\site-packages\\sklearn\\neighbors\\_classification.py:228: FutureWarning: Unlike other reduction functions (e.g. `skew`, `kurtosis`), the default behavior of `mode` typically preserves the axis it acts along. In SciPy 1.11.0, this behavior will change: the default value of `keepdims` will become False, the `axis` over which the statistic is taken will be eliminated, and the value None will no longer be accepted. Set `keepdims` to True or False to avoid this warning.\n",
      "  mode, _ = stats.mode(_y[neigh_ind, k], axis=1)\n",
      "C:\\Users\\Gali\\anaconda3\\lib\\site-packages\\sklearn\\neighbors\\_classification.py:228: FutureWarning: Unlike other reduction functions (e.g. `skew`, `kurtosis`), the default behavior of `mode` typically preserves the axis it acts along. In SciPy 1.11.0, this behavior will change: the default value of `keepdims` will become False, the `axis` over which the statistic is taken will be eliminated, and the value None will no longer be accepted. Set `keepdims` to True or False to avoid this warning.\n",
      "  mode, _ = stats.mode(_y[neigh_ind, k], axis=1)\n",
      "C:\\Users\\Gali\\anaconda3\\lib\\site-packages\\sklearn\\neighbors\\_classification.py:228: FutureWarning: Unlike other reduction functions (e.g. `skew`, `kurtosis`), the default behavior of `mode` typically preserves the axis it acts along. In SciPy 1.11.0, this behavior will change: the default value of `keepdims` will become False, the `axis` over which the statistic is taken will be eliminated, and the value None will no longer be accepted. Set `keepdims` to True or False to avoid this warning.\n",
      "  mode, _ = stats.mode(_y[neigh_ind, k], axis=1)\n",
      "C:\\Users\\Gali\\anaconda3\\lib\\site-packages\\sklearn\\neighbors\\_classification.py:228: FutureWarning: Unlike other reduction functions (e.g. `skew`, `kurtosis`), the default behavior of `mode` typically preserves the axis it acts along. In SciPy 1.11.0, this behavior will change: the default value of `keepdims` will become False, the `axis` over which the statistic is taken will be eliminated, and the value None will no longer be accepted. Set `keepdims` to True or False to avoid this warning.\n",
      "  mode, _ = stats.mode(_y[neigh_ind, k], axis=1)\n",
      "C:\\Users\\Gali\\anaconda3\\lib\\site-packages\\sklearn\\neighbors\\_classification.py:228: FutureWarning: Unlike other reduction functions (e.g. `skew`, `kurtosis`), the default behavior of `mode` typically preserves the axis it acts along. In SciPy 1.11.0, this behavior will change: the default value of `keepdims` will become False, the `axis` over which the statistic is taken will be eliminated, and the value None will no longer be accepted. Set `keepdims` to True or False to avoid this warning.\n",
      "  mode, _ = stats.mode(_y[neigh_ind, k], axis=1)\n",
      "C:\\Users\\Gali\\anaconda3\\lib\\site-packages\\sklearn\\neighbors\\_classification.py:228: FutureWarning: Unlike other reduction functions (e.g. `skew`, `kurtosis`), the default behavior of `mode` typically preserves the axis it acts along. In SciPy 1.11.0, this behavior will change: the default value of `keepdims` will become False, the `axis` over which the statistic is taken will be eliminated, and the value None will no longer be accepted. Set `keepdims` to True or False to avoid this warning.\n",
      "  mode, _ = stats.mode(_y[neigh_ind, k], axis=1)\n",
      "C:\\Users\\Gali\\anaconda3\\lib\\site-packages\\sklearn\\neighbors\\_classification.py:228: FutureWarning: Unlike other reduction functions (e.g. `skew`, `kurtosis`), the default behavior of `mode` typically preserves the axis it acts along. In SciPy 1.11.0, this behavior will change: the default value of `keepdims` will become False, the `axis` over which the statistic is taken will be eliminated, and the value None will no longer be accepted. Set `keepdims` to True or False to avoid this warning.\n",
      "  mode, _ = stats.mode(_y[neigh_ind, k], axis=1)\n",
      "C:\\Users\\Gali\\anaconda3\\lib\\site-packages\\sklearn\\neighbors\\_classification.py:228: FutureWarning: Unlike other reduction functions (e.g. `skew`, `kurtosis`), the default behavior of `mode` typically preserves the axis it acts along. In SciPy 1.11.0, this behavior will change: the default value of `keepdims` will become False, the `axis` over which the statistic is taken will be eliminated, and the value None will no longer be accepted. Set `keepdims` to True or False to avoid this warning.\n",
      "  mode, _ = stats.mode(_y[neigh_ind, k], axis=1)\n",
      "C:\\Users\\Gali\\AppData\\Local\\Temp\\ipykernel_22868\\2826293444.py:37: FutureWarning: The frame.append method is deprecated and will be removed from pandas in a future version. Use pandas.concat instead.\n",
      "  results_df_params = results_df_params.append({\n"
     ]
    },
    {
     "name": "stderr",
     "output_type": "stream",
     "text": [
      "C:\\Users\\Gali\\AppData\\Local\\Temp\\ipykernel_22868\\2826293444.py:37: FutureWarning: The frame.append method is deprecated and will be removed from pandas in a future version. Use pandas.concat instead.\n",
      "  results_df_params = results_df_params.append({\n",
      "C:\\Users\\Gali\\AppData\\Local\\Temp\\ipykernel_22868\\2826293444.py:37: FutureWarning: The frame.append method is deprecated and will be removed from pandas in a future version. Use pandas.concat instead.\n",
      "  results_df_params = results_df_params.append({\n",
      "C:\\Users\\Gali\\anaconda3\\lib\\site-packages\\sklearn\\metrics\\_classification.py:1318: UndefinedMetricWarning: Precision is ill-defined and being set to 0.0 due to no predicted samples. Use `zero_division` parameter to control this behavior.\n",
      "  _warn_prf(average, modifier, msg_start, len(result))\n",
      "C:\\Users\\Gali\\AppData\\Local\\Temp\\ipykernel_22868\\2826293444.py:37: FutureWarning: The frame.append method is deprecated and will be removed from pandas in a future version. Use pandas.concat instead.\n",
      "  results_df_params = results_df_params.append({\n"
     ]
    },
    {
     "data": {
      "text/html": [
       "<div>\n",
       "<style scoped>\n",
       "    .dataframe tbody tr th:only-of-type {\n",
       "        vertical-align: middle;\n",
       "    }\n",
       "\n",
       "    .dataframe tbody tr th {\n",
       "        vertical-align: top;\n",
       "    }\n",
       "\n",
       "    .dataframe thead th {\n",
       "        text-align: right;\n",
       "    }\n",
       "</style>\n",
       "<table border=\"1\" class=\"dataframe\">\n",
       "  <thead>\n",
       "    <tr style=\"text-align: right;\">\n",
       "      <th></th>\n",
       "      <th>Model</th>\n",
       "      <th>Accuracy</th>\n",
       "      <th>Precision</th>\n",
       "      <th>Recall</th>\n",
       "      <th>F1 Score</th>\n",
       "      <th>ROC AUC</th>\n",
       "      <th>MCC</th>\n",
       "      <th>TP</th>\n",
       "      <th>TN</th>\n",
       "      <th>FP</th>\n",
       "      <th>FN</th>\n",
       "    </tr>\n",
       "  </thead>\n",
       "  <tbody>\n",
       "    <tr>\n",
       "      <th>0</th>\n",
       "      <td>Logistic Regression</td>\n",
       "      <td>0.954012</td>\n",
       "      <td>0.000000</td>\n",
       "      <td>0.000000</td>\n",
       "      <td>0.000000</td>\n",
       "      <td>0.843153</td>\n",
       "      <td>0.000000</td>\n",
       "      <td>0</td>\n",
       "      <td>975</td>\n",
       "      <td>0</td>\n",
       "      <td>47</td>\n",
       "    </tr>\n",
       "    <tr>\n",
       "      <th>1</th>\n",
       "      <td>Decision Tree</td>\n",
       "      <td>0.943249</td>\n",
       "      <td>0.260870</td>\n",
       "      <td>0.127660</td>\n",
       "      <td>0.171429</td>\n",
       "      <td>0.589394</td>\n",
       "      <td>0.155661</td>\n",
       "      <td>6</td>\n",
       "      <td>958</td>\n",
       "      <td>17</td>\n",
       "      <td>41</td>\n",
       "    </tr>\n",
       "    <tr>\n",
       "      <th>2</th>\n",
       "      <td>Random Forest</td>\n",
       "      <td>0.951076</td>\n",
       "      <td>0.200000</td>\n",
       "      <td>0.021277</td>\n",
       "      <td>0.038462</td>\n",
       "      <td>0.792679</td>\n",
       "      <td>0.051556</td>\n",
       "      <td>1</td>\n",
       "      <td>971</td>\n",
       "      <td>4</td>\n",
       "      <td>46</td>\n",
       "    </tr>\n",
       "    <tr>\n",
       "      <th>3</th>\n",
       "      <td>Support Vector Machine</td>\n",
       "      <td>0.954012</td>\n",
       "      <td>0.000000</td>\n",
       "      <td>0.000000</td>\n",
       "      <td>0.000000</td>\n",
       "      <td>0.672635</td>\n",
       "      <td>0.000000</td>\n",
       "      <td>0</td>\n",
       "      <td>975</td>\n",
       "      <td>0</td>\n",
       "      <td>47</td>\n",
       "    </tr>\n",
       "    <tr>\n",
       "      <th>4</th>\n",
       "      <td>K-Nearest Neighbors</td>\n",
       "      <td>0.952055</td>\n",
       "      <td>0.250000</td>\n",
       "      <td>0.021277</td>\n",
       "      <td>0.039216</td>\n",
       "      <td>0.712450</td>\n",
       "      <td>0.061054</td>\n",
       "      <td>1</td>\n",
       "      <td>972</td>\n",
       "      <td>3</td>\n",
       "      <td>46</td>\n",
       "    </tr>\n",
       "    <tr>\n",
       "      <th>5</th>\n",
       "      <td>Naive Bayes</td>\n",
       "      <td>0.875734</td>\n",
       "      <td>0.172131</td>\n",
       "      <td>0.446809</td>\n",
       "      <td>0.248521</td>\n",
       "      <td>0.841735</td>\n",
       "      <td>0.221728</td>\n",
       "      <td>21</td>\n",
       "      <td>874</td>\n",
       "      <td>101</td>\n",
       "      <td>26</td>\n",
       "    </tr>\n",
       "    <tr>\n",
       "      <th>6</th>\n",
       "      <td>Neural Network</td>\n",
       "      <td>0.953033</td>\n",
       "      <td>0.000000</td>\n",
       "      <td>0.000000</td>\n",
       "      <td>0.000000</td>\n",
       "      <td>0.830431</td>\n",
       "      <td>-0.006871</td>\n",
       "      <td>0</td>\n",
       "      <td>974</td>\n",
       "      <td>1</td>\n",
       "      <td>47</td>\n",
       "    </tr>\n",
       "    <tr>\n",
       "      <th>7</th>\n",
       "      <td>XGBoost</td>\n",
       "      <td>0.954012</td>\n",
       "      <td>0.000000</td>\n",
       "      <td>0.000000</td>\n",
       "      <td>0.000000</td>\n",
       "      <td>0.822651</td>\n",
       "      <td>0.000000</td>\n",
       "      <td>0</td>\n",
       "      <td>975</td>\n",
       "      <td>0</td>\n",
       "      <td>47</td>\n",
       "    </tr>\n",
       "  </tbody>\n",
       "</table>\n",
       "</div>"
      ],
      "text/plain": [
       "                    Model  Accuracy  Precision    Recall  F1 Score   ROC AUC  \\\n",
       "0     Logistic Regression  0.954012   0.000000  0.000000  0.000000  0.843153   \n",
       "1           Decision Tree  0.943249   0.260870  0.127660  0.171429  0.589394   \n",
       "2           Random Forest  0.951076   0.200000  0.021277  0.038462  0.792679   \n",
       "3  Support Vector Machine  0.954012   0.000000  0.000000  0.000000  0.672635   \n",
       "4     K-Nearest Neighbors  0.952055   0.250000  0.021277  0.039216  0.712450   \n",
       "5             Naive Bayes  0.875734   0.172131  0.446809  0.248521  0.841735   \n",
       "6          Neural Network  0.953033   0.000000  0.000000  0.000000  0.830431   \n",
       "7                 XGBoost  0.954012   0.000000  0.000000  0.000000  0.822651   \n",
       "\n",
       "        MCC  TP   TN   FP  FN  \n",
       "0  0.000000   0  975    0  47  \n",
       "1  0.155661   6  958   17  41  \n",
       "2  0.051556   1  971    4  46  \n",
       "3  0.000000   0  975    0  47  \n",
       "4  0.061054   1  972    3  46  \n",
       "5  0.221728  21  874  101  26  \n",
       "6 -0.006871   0  974    1  47  \n",
       "7  0.000000   0  975    0  47  "
      ]
     },
     "execution_count": 64,
     "metadata": {},
     "output_type": "execute_result"
    }
   ],
   "source": [
    "# Create a list of classifiers with hyperparameter grids\n",
    "classifiers = [\n",
    "    ('Logistic Regression', LogisticRegression(max_iter=1000), {'C': [0.001, 0.01, 0.1, 1, 10]}),\n",
    "    ('Decision Tree', DecisionTreeClassifier(), {'max_depth': [None, 10, 20, 30]}),\n",
    "    ('Random Forest', RandomForestClassifier(), {'n_estimators': [100, 200, 300], 'max_depth': [None, 10, 20, 30]}),\n",
    "    ('Support Vector Machine', SVC(probability=True), {'C': [0.001, 0.01, 0.1, 1, 10]}),\n",
    "    ('K-Nearest Neighbors', KNeighborsClassifier(), {'n_neighbors': [3, 5, 7]}),\n",
    "    ('Naive Bayes', GaussianNB(), {}),\n",
    "    ('Neural Network', MLPClassifier(max_iter=1000), {'hidden_layer_sizes': [(50,), (100,), (50, 50)]}),\n",
    "    ('XGBoost', XGBClassifier(), {'n_estimators': [100, 200, 300], 'max_depth': [3, 5, 7]})\n",
    "]\n",
    "\n",
    "# Create an empty DataFrame to store the results\n",
    "results_df_params = pd.DataFrame(columns=['Model', 'Accuracy', 'Precision', 'Recall', 'F1 Score', 'ROC AUC','MCC','TP','TN','FP','FN'])\n",
    "\n",
    "# Train and evaluate each classifier with GridSearchCV\n",
    "for name, clf, param_grid in classifiers:\n",
    "    grid_search = GridSearchCV(clf, param_grid=param_grid, cv=5)\n",
    "    grid_search.fit(X_train, y_train)\n",
    "    clf = grid_search.best_estimator_\n",
    "    \n",
    "    y_pred = clf.predict(X_test)\n",
    "    \n",
    "    accuracy = accuracy_score(y_test, y_pred)\n",
    "    precision = precision_score(y_test, y_pred)\n",
    "    recall = recall_score(y_test, y_pred)\n",
    "    f1 = f1_score(y_test, y_pred)\n",
    "    tn, fp, fn, tp = confusion_matrix(y_test, y_pred).ravel()\n",
    "    mcc = matthews_corrcoef(y_test,y_pred)\n",
    "    \n",
    "    # Calculate ROC AUC only if predict_proba is available\n",
    "    if hasattr(clf, \"predict_proba\"):\n",
    "        roc_auc = roc_auc_score(y_test, clf.predict_proba(X_test)[:, 1])\n",
    "    else:\n",
    "        roc_auc = None\n",
    "    \n",
    "    results_df_params = results_df_params.append({\n",
    "        'Model': name,\n",
    "        'Accuracy': accuracy,\n",
    "        'Precision': precision,\n",
    "        'Recall': recall,\n",
    "        'F1 Score': f1,\n",
    "        'ROC AUC': roc_auc,\n",
    "        'MCC': mcc,\n",
    "        'TP': tp,\n",
    "        'TN': tn,\n",
    "        'FP': fp,\n",
    "        'FN': fn,\n",
    "    }, ignore_index=True)\n",
    "\n",
    "# Display the results DataFrame\n",
    "pd.DataFrame(results_df_params)"
   ]
  },
  {
   "cell_type": "markdown",
   "id": "99644dfa",
   "metadata": {},
   "source": [
    "### NB\n",
    "The data is not balanced, it will be necessary to artificially increase the data for the \"stroke\" category. And since, according to statistics, the ratio of people with stroke and healthy people is 1 to 4, we will apply \"SMOTE\" to our data."
   ]
  },
  {
   "cell_type": "code",
   "execution_count": 65,
   "id": "5063df76",
   "metadata": {},
   "outputs": [],
   "source": [
    "from imblearn.over_sampling import SMOTE"
   ]
  },
  {
   "cell_type": "code",
   "execution_count": 66,
   "id": "7c8a253a",
   "metadata": {
    "scrolled": true
   },
   "outputs": [],
   "source": [
    "sm = SMOTE(sampling_strategy=0.25)\n",
    "X_train_smote, y_train_smote = sm.fit_resample(X_train, y_train.ravel())"
   ]
  },
  {
   "cell_type": "code",
   "execution_count": 67,
   "id": "e632e881",
   "metadata": {},
   "outputs": [
    {
     "data": {
      "text/plain": [
       "(4857, 9)"
      ]
     },
     "execution_count": 67,
     "metadata": {},
     "output_type": "execute_result"
    }
   ],
   "source": [
    "X_train_smote.shape"
   ]
  },
  {
   "cell_type": "code",
   "execution_count": 68,
   "id": "30b973fb",
   "metadata": {},
   "outputs": [
    {
     "data": {
      "text/plain": [
       "(4857,)"
      ]
     },
     "execution_count": 68,
     "metadata": {},
     "output_type": "execute_result"
    }
   ],
   "source": [
    "y_train_smote.shape"
   ]
  },
  {
   "cell_type": "code",
   "execution_count": 69,
   "id": "1169ce69",
   "metadata": {
    "scrolled": true
   },
   "outputs": [
    {
     "name": "stderr",
     "output_type": "stream",
     "text": [
      "C:\\Users\\Gali\\AppData\\Local\\Temp\\ipykernel_22868\\3192312614.py:34: FutureWarning: The frame.append method is deprecated and will be removed from pandas in a future version. Use pandas.concat instead.\n",
      "  results_df_smote = results_df_smote.append({\n",
      "C:\\Users\\Gali\\AppData\\Local\\Temp\\ipykernel_22868\\3192312614.py:34: FutureWarning: The frame.append method is deprecated and will be removed from pandas in a future version. Use pandas.concat instead.\n",
      "  results_df_smote = results_df_smote.append({\n",
      "C:\\Users\\Gali\\AppData\\Local\\Temp\\ipykernel_22868\\3192312614.py:34: FutureWarning: The frame.append method is deprecated and will be removed from pandas in a future version. Use pandas.concat instead.\n",
      "  results_df_smote = results_df_smote.append({\n",
      "C:\\Users\\Gali\\AppData\\Local\\Temp\\ipykernel_22868\\3192312614.py:34: FutureWarning: The frame.append method is deprecated and will be removed from pandas in a future version. Use pandas.concat instead.\n",
      "  results_df_smote = results_df_smote.append({\n",
      "C:\\Users\\Gali\\anaconda3\\lib\\site-packages\\sklearn\\neighbors\\_classification.py:228: FutureWarning: Unlike other reduction functions (e.g. `skew`, `kurtosis`), the default behavior of `mode` typically preserves the axis it acts along. In SciPy 1.11.0, this behavior will change: the default value of `keepdims` will become False, the `axis` over which the statistic is taken will be eliminated, and the value None will no longer be accepted. Set `keepdims` to True or False to avoid this warning.\n",
      "  mode, _ = stats.mode(_y[neigh_ind, k], axis=1)\n",
      "C:\\Users\\Gali\\AppData\\Local\\Temp\\ipykernel_22868\\3192312614.py:34: FutureWarning: The frame.append method is deprecated and will be removed from pandas in a future version. Use pandas.concat instead.\n",
      "  results_df_smote = results_df_smote.append({\n",
      "C:\\Users\\Gali\\AppData\\Local\\Temp\\ipykernel_22868\\3192312614.py:34: FutureWarning: The frame.append method is deprecated and will be removed from pandas in a future version. Use pandas.concat instead.\n",
      "  results_df_smote = results_df_smote.append({\n",
      "C:\\Users\\Gali\\AppData\\Local\\Temp\\ipykernel_22868\\3192312614.py:34: FutureWarning: The frame.append method is deprecated and will be removed from pandas in a future version. Use pandas.concat instead.\n",
      "  results_df_smote = results_df_smote.append({\n",
      "C:\\Users\\Gali\\AppData\\Local\\Temp\\ipykernel_22868\\3192312614.py:34: FutureWarning: The frame.append method is deprecated and will be removed from pandas in a future version. Use pandas.concat instead.\n",
      "  results_df_smote = results_df_smote.append({\n"
     ]
    },
    {
     "data": {
      "text/html": [
       "<div>\n",
       "<style scoped>\n",
       "    .dataframe tbody tr th:only-of-type {\n",
       "        vertical-align: middle;\n",
       "    }\n",
       "\n",
       "    .dataframe tbody tr th {\n",
       "        vertical-align: top;\n",
       "    }\n",
       "\n",
       "    .dataframe thead th {\n",
       "        text-align: right;\n",
       "    }\n",
       "</style>\n",
       "<table border=\"1\" class=\"dataframe\">\n",
       "  <thead>\n",
       "    <tr style=\"text-align: right;\">\n",
       "      <th></th>\n",
       "      <th>Model</th>\n",
       "      <th>Accuracy</th>\n",
       "      <th>Precision</th>\n",
       "      <th>Recall</th>\n",
       "      <th>F1 Score</th>\n",
       "      <th>ROC AUC</th>\n",
       "      <th>MCC</th>\n",
       "      <th>TP</th>\n",
       "      <th>TN</th>\n",
       "      <th>FP</th>\n",
       "      <th>FN</th>\n",
       "    </tr>\n",
       "  </thead>\n",
       "  <tbody>\n",
       "    <tr>\n",
       "      <th>0</th>\n",
       "      <td>Logistic Regression</td>\n",
       "      <td>0.915851</td>\n",
       "      <td>0.208955</td>\n",
       "      <td>0.297872</td>\n",
       "      <td>0.245614</td>\n",
       "      <td>0.791064</td>\n",
       "      <td>0.206080</td>\n",
       "      <td>14</td>\n",
       "      <td>922</td>\n",
       "      <td>53</td>\n",
       "      <td>33</td>\n",
       "    </tr>\n",
       "    <tr>\n",
       "      <th>1</th>\n",
       "      <td>Decision Tree</td>\n",
       "      <td>0.906067</td>\n",
       "      <td>0.134328</td>\n",
       "      <td>0.191489</td>\n",
       "      <td>0.157895</td>\n",
       "      <td>0.578876</td>\n",
       "      <td>0.111710</td>\n",
       "      <td>9</td>\n",
       "      <td>917</td>\n",
       "      <td>58</td>\n",
       "      <td>38</td>\n",
       "    </tr>\n",
       "    <tr>\n",
       "      <th>2</th>\n",
       "      <td>Random Forest</td>\n",
       "      <td>0.921722</td>\n",
       "      <td>0.148936</td>\n",
       "      <td>0.148936</td>\n",
       "      <td>0.148936</td>\n",
       "      <td>0.790104</td>\n",
       "      <td>0.107911</td>\n",
       "      <td>7</td>\n",
       "      <td>935</td>\n",
       "      <td>40</td>\n",
       "      <td>40</td>\n",
       "    </tr>\n",
       "    <tr>\n",
       "      <th>3</th>\n",
       "      <td>Support Vector Machine</td>\n",
       "      <td>0.901174</td>\n",
       "      <td>0.206522</td>\n",
       "      <td>0.404255</td>\n",
       "      <td>0.273381</td>\n",
       "      <td>0.784561</td>\n",
       "      <td>0.241056</td>\n",
       "      <td>19</td>\n",
       "      <td>902</td>\n",
       "      <td>73</td>\n",
       "      <td>28</td>\n",
       "    </tr>\n",
       "    <tr>\n",
       "      <th>4</th>\n",
       "      <td>K-Nearest Neighbors</td>\n",
       "      <td>0.896282</td>\n",
       "      <td>0.126582</td>\n",
       "      <td>0.212766</td>\n",
       "      <td>0.158730</td>\n",
       "      <td>0.672460</td>\n",
       "      <td>0.111368</td>\n",
       "      <td>10</td>\n",
       "      <td>906</td>\n",
       "      <td>69</td>\n",
       "      <td>37</td>\n",
       "    </tr>\n",
       "    <tr>\n",
       "      <th>5</th>\n",
       "      <td>Naive Bayes</td>\n",
       "      <td>0.825832</td>\n",
       "      <td>0.142077</td>\n",
       "      <td>0.553191</td>\n",
       "      <td>0.226087</td>\n",
       "      <td>0.815941</td>\n",
       "      <td>0.214247</td>\n",
       "      <td>26</td>\n",
       "      <td>818</td>\n",
       "      <td>157</td>\n",
       "      <td>21</td>\n",
       "    </tr>\n",
       "    <tr>\n",
       "      <th>6</th>\n",
       "      <td>Neural Network</td>\n",
       "      <td>0.906067</td>\n",
       "      <td>0.154930</td>\n",
       "      <td>0.234043</td>\n",
       "      <td>0.186441</td>\n",
       "      <td>0.778189</td>\n",
       "      <td>0.142112</td>\n",
       "      <td>11</td>\n",
       "      <td>915</td>\n",
       "      <td>60</td>\n",
       "      <td>36</td>\n",
       "    </tr>\n",
       "    <tr>\n",
       "      <th>7</th>\n",
       "      <td>XGBoost</td>\n",
       "      <td>0.928571</td>\n",
       "      <td>0.138889</td>\n",
       "      <td>0.106383</td>\n",
       "      <td>0.120482</td>\n",
       "      <td>0.744670</td>\n",
       "      <td>0.084748</td>\n",
       "      <td>5</td>\n",
       "      <td>944</td>\n",
       "      <td>31</td>\n",
       "      <td>42</td>\n",
       "    </tr>\n",
       "  </tbody>\n",
       "</table>\n",
       "</div>"
      ],
      "text/plain": [
       "                    Model  Accuracy  Precision    Recall  F1 Score   ROC AUC  \\\n",
       "0     Logistic Regression  0.915851   0.208955  0.297872  0.245614  0.791064   \n",
       "1           Decision Tree  0.906067   0.134328  0.191489  0.157895  0.578876   \n",
       "2           Random Forest  0.921722   0.148936  0.148936  0.148936  0.790104   \n",
       "3  Support Vector Machine  0.901174   0.206522  0.404255  0.273381  0.784561   \n",
       "4     K-Nearest Neighbors  0.896282   0.126582  0.212766  0.158730  0.672460   \n",
       "5             Naive Bayes  0.825832   0.142077  0.553191  0.226087  0.815941   \n",
       "6          Neural Network  0.906067   0.154930  0.234043  0.186441  0.778189   \n",
       "7                 XGBoost  0.928571   0.138889  0.106383  0.120482  0.744670   \n",
       "\n",
       "        MCC  TP   TN   FP  FN  \n",
       "0  0.206080  14  922   53  33  \n",
       "1  0.111710   9  917   58  38  \n",
       "2  0.107911   7  935   40  40  \n",
       "3  0.241056  19  902   73  28  \n",
       "4  0.111368  10  906   69  37  \n",
       "5  0.214247  26  818  157  21  \n",
       "6  0.142112  11  915   60  36  \n",
       "7  0.084748   5  944   31  42  "
      ]
     },
     "execution_count": 69,
     "metadata": {},
     "output_type": "execute_result"
    }
   ],
   "source": [
    "# Create a list of classifiers\n",
    "classifiers = [\n",
    "    ('Logistic Regression', LogisticRegression(max_iter=1000)),\n",
    "    ('Decision Tree', DecisionTreeClassifier()),\n",
    "    ('Random Forest', RandomForestClassifier()),\n",
    "    ('Support Vector Machine', SVC(probability=True)),  \n",
    "    ('K-Nearest Neighbors', KNeighborsClassifier()),\n",
    "    ('Naive Bayes', GaussianNB()),\n",
    "    ('Neural Network', MLPClassifier(max_iter=1000)),\n",
    "    ('XGBoost', XGBClassifier())\n",
    "]\n",
    "\n",
    "# Create an empty DataFrame to store the results\n",
    "results_df_smote = pd.DataFrame(columns=['Model', 'Accuracy', 'Precision', 'Recall', 'F1 Score', 'ROC AUC','MCC','TP','TN','FP','FN'])\n",
    "\n",
    "# Train and evaluate each classifier\n",
    "for name, clf in classifiers:\n",
    "    clf.fit(X_train_smote, y_train_smote)\n",
    "    y_pred = clf.predict(X_test)\n",
    "    \n",
    "    accuracy = accuracy_score(y_test, y_pred)\n",
    "    precision = precision_score(y_test, y_pred)\n",
    "    recall = recall_score(y_test, y_pred)\n",
    "    f1 = f1_score(y_test, y_pred)\n",
    "    tn, fp, fn, tp = confusion_matrix(y_test, y_pred).ravel()\n",
    "    mcc = matthews_corrcoef(y_test,y_pred)\n",
    "\n",
    "    # Calculate ROC AUC only if predict_proba is available\n",
    "    if hasattr(clf, \"predict_proba\"):\n",
    "        roc_auc = roc_auc_score(y_test, clf.predict_proba(X_test)[:, 1])\n",
    "    else:\n",
    "        roc_auc = None\n",
    "    \n",
    "    results_df_smote = results_df_smote.append({\n",
    "        'Model': name,\n",
    "        'Accuracy': accuracy,\n",
    "        'Precision': precision,\n",
    "        'Recall': recall,\n",
    "        'F1 Score': f1,\n",
    "        'ROC AUC': roc_auc,\n",
    "        'MCC': mcc,\n",
    "        'TP': tp,\n",
    "        'TN': tn,\n",
    "        'FP': fp,\n",
    "        'FN': fn,\n",
    "    }, ignore_index=True)\n",
    "    \n",
    "# Display the results DataFrame\n",
    "pd.DataFrame(results_df_smote)"
   ]
  },
  {
   "cell_type": "markdown",
   "id": "dfc47adb",
   "metadata": {},
   "source": [
    "# 6. Results interpretation"
   ]
  },
  {
   "cell_type": "code",
   "execution_count": 70,
   "id": "874d7a89",
   "metadata": {
    "scrolled": false
   },
   "outputs": [
    {
     "data": {
      "text/html": [
       "<div>\n",
       "<style scoped>\n",
       "    .dataframe tbody tr th:only-of-type {\n",
       "        vertical-align: middle;\n",
       "    }\n",
       "\n",
       "    .dataframe tbody tr th {\n",
       "        vertical-align: top;\n",
       "    }\n",
       "\n",
       "    .dataframe thead th {\n",
       "        text-align: right;\n",
       "    }\n",
       "</style>\n",
       "<table border=\"1\" class=\"dataframe\">\n",
       "  <thead>\n",
       "    <tr style=\"text-align: right;\">\n",
       "      <th></th>\n",
       "      <th>Model</th>\n",
       "      <th>Accuracy</th>\n",
       "      <th>Precision</th>\n",
       "      <th>Recall</th>\n",
       "      <th>F1 Score</th>\n",
       "      <th>ROC AUC</th>\n",
       "      <th>MCC</th>\n",
       "      <th>TP</th>\n",
       "      <th>TN</th>\n",
       "      <th>FP</th>\n",
       "      <th>FN</th>\n",
       "    </tr>\n",
       "  </thead>\n",
       "  <tbody>\n",
       "    <tr>\n",
       "      <th>0</th>\n",
       "      <td>Logistic Regression</td>\n",
       "      <td>0.954012</td>\n",
       "      <td>0.000000</td>\n",
       "      <td>0.000000</td>\n",
       "      <td>0.000000</td>\n",
       "      <td>0.856247</td>\n",
       "      <td>0.000000</td>\n",
       "      <td>0</td>\n",
       "      <td>975</td>\n",
       "      <td>0</td>\n",
       "      <td>47</td>\n",
       "    </tr>\n",
       "    <tr>\n",
       "      <th>1</th>\n",
       "      <td>Decision Tree</td>\n",
       "      <td>0.925636</td>\n",
       "      <td>0.146341</td>\n",
       "      <td>0.127660</td>\n",
       "      <td>0.136364</td>\n",
       "      <td>0.550802</td>\n",
       "      <td>0.097946</td>\n",
       "      <td>6</td>\n",
       "      <td>940</td>\n",
       "      <td>35</td>\n",
       "      <td>41</td>\n",
       "    </tr>\n",
       "    <tr>\n",
       "      <th>2</th>\n",
       "      <td>Random Forest</td>\n",
       "      <td>0.943249</td>\n",
       "      <td>0.176471</td>\n",
       "      <td>0.063830</td>\n",
       "      <td>0.093750</td>\n",
       "      <td>0.759520</td>\n",
       "      <td>0.081020</td>\n",
       "      <td>3</td>\n",
       "      <td>961</td>\n",
       "      <td>14</td>\n",
       "      <td>44</td>\n",
       "    </tr>\n",
       "    <tr>\n",
       "      <th>3</th>\n",
       "      <td>Support Vector Machine</td>\n",
       "      <td>0.954012</td>\n",
       "      <td>0.000000</td>\n",
       "      <td>0.000000</td>\n",
       "      <td>0.000000</td>\n",
       "      <td>0.529438</td>\n",
       "      <td>0.000000</td>\n",
       "      <td>0</td>\n",
       "      <td>975</td>\n",
       "      <td>0</td>\n",
       "      <td>47</td>\n",
       "    </tr>\n",
       "    <tr>\n",
       "      <th>4</th>\n",
       "      <td>K-Nearest Neighbors</td>\n",
       "      <td>0.952055</td>\n",
       "      <td>0.375000</td>\n",
       "      <td>0.063830</td>\n",
       "      <td>0.109091</td>\n",
       "      <td>0.670627</td>\n",
       "      <td>0.139520</td>\n",
       "      <td>3</td>\n",
       "      <td>970</td>\n",
       "      <td>5</td>\n",
       "      <td>44</td>\n",
       "    </tr>\n",
       "    <tr>\n",
       "      <th>5</th>\n",
       "      <td>Naive Bayes</td>\n",
       "      <td>0.875734</td>\n",
       "      <td>0.172131</td>\n",
       "      <td>0.446809</td>\n",
       "      <td>0.248521</td>\n",
       "      <td>0.841735</td>\n",
       "      <td>0.221728</td>\n",
       "      <td>21</td>\n",
       "      <td>874</td>\n",
       "      <td>101</td>\n",
       "      <td>26</td>\n",
       "    </tr>\n",
       "    <tr>\n",
       "      <th>6</th>\n",
       "      <td>Neural Network</td>\n",
       "      <td>0.954990</td>\n",
       "      <td>0.600000</td>\n",
       "      <td>0.063830</td>\n",
       "      <td>0.115385</td>\n",
       "      <td>0.833792</td>\n",
       "      <td>0.185457</td>\n",
       "      <td>3</td>\n",
       "      <td>973</td>\n",
       "      <td>2</td>\n",
       "      <td>44</td>\n",
       "    </tr>\n",
       "    <tr>\n",
       "      <th>7</th>\n",
       "      <td>XGBoost</td>\n",
       "      <td>0.943249</td>\n",
       "      <td>0.176471</td>\n",
       "      <td>0.063830</td>\n",
       "      <td>0.093750</td>\n",
       "      <td>0.765968</td>\n",
       "      <td>0.081020</td>\n",
       "      <td>3</td>\n",
       "      <td>961</td>\n",
       "      <td>14</td>\n",
       "      <td>44</td>\n",
       "    </tr>\n",
       "  </tbody>\n",
       "</table>\n",
       "</div>"
      ],
      "text/plain": [
       "                    Model  Accuracy  Precision    Recall  F1 Score   ROC AUC  \\\n",
       "0     Logistic Regression  0.954012   0.000000  0.000000  0.000000  0.856247   \n",
       "1           Decision Tree  0.925636   0.146341  0.127660  0.136364  0.550802   \n",
       "2           Random Forest  0.943249   0.176471  0.063830  0.093750  0.759520   \n",
       "3  Support Vector Machine  0.954012   0.000000  0.000000  0.000000  0.529438   \n",
       "4     K-Nearest Neighbors  0.952055   0.375000  0.063830  0.109091  0.670627   \n",
       "5             Naive Bayes  0.875734   0.172131  0.446809  0.248521  0.841735   \n",
       "6          Neural Network  0.954990   0.600000  0.063830  0.115385  0.833792   \n",
       "7                 XGBoost  0.943249   0.176471  0.063830  0.093750  0.765968   \n",
       "\n",
       "        MCC  TP   TN   FP  FN  \n",
       "0  0.000000   0  975    0  47  \n",
       "1  0.097946   6  940   35  41  \n",
       "2  0.081020   3  961   14  44  \n",
       "3  0.000000   0  975    0  47  \n",
       "4  0.139520   3  970    5  44  \n",
       "5  0.221728  21  874  101  26  \n",
       "6  0.185457   3  973    2  44  \n",
       "7  0.081020   3  961   14  44  "
      ]
     },
     "execution_count": 70,
     "metadata": {},
     "output_type": "execute_result"
    }
   ],
   "source": [
    "results_df"
   ]
  },
  {
   "cell_type": "markdown",
   "id": "9df29165",
   "metadata": {},
   "source": [
    "### The assessment of the basic prediction\n",
    "If we proceed from the fact that the model as a whole should determine well both healthy people and people with stroke, then Naive Bayes stands out from others. It has a better MCC coefficient and F1 Score although low accuracy."
   ]
  },
  {
   "cell_type": "code",
   "execution_count": 71,
   "id": "ecfbaf7f",
   "metadata": {},
   "outputs": [
    {
     "data": {
      "text/html": [
       "<div>\n",
       "<style scoped>\n",
       "    .dataframe tbody tr th:only-of-type {\n",
       "        vertical-align: middle;\n",
       "    }\n",
       "\n",
       "    .dataframe tbody tr th {\n",
       "        vertical-align: top;\n",
       "    }\n",
       "\n",
       "    .dataframe thead th {\n",
       "        text-align: right;\n",
       "    }\n",
       "</style>\n",
       "<table border=\"1\" class=\"dataframe\">\n",
       "  <thead>\n",
       "    <tr style=\"text-align: right;\">\n",
       "      <th></th>\n",
       "      <th>Model</th>\n",
       "      <th>Accuracy</th>\n",
       "      <th>Precision</th>\n",
       "      <th>Recall</th>\n",
       "      <th>F1 Score</th>\n",
       "      <th>ROC AUC</th>\n",
       "      <th>MCC</th>\n",
       "      <th>TP</th>\n",
       "      <th>TN</th>\n",
       "      <th>FP</th>\n",
       "      <th>FN</th>\n",
       "    </tr>\n",
       "  </thead>\n",
       "  <tbody>\n",
       "    <tr>\n",
       "      <th>0</th>\n",
       "      <td>Logistic Regression</td>\n",
       "      <td>0.954012</td>\n",
       "      <td>0.000000</td>\n",
       "      <td>0.000000</td>\n",
       "      <td>0.000000</td>\n",
       "      <td>0.843153</td>\n",
       "      <td>0.000000</td>\n",
       "      <td>0</td>\n",
       "      <td>975</td>\n",
       "      <td>0</td>\n",
       "      <td>47</td>\n",
       "    </tr>\n",
       "    <tr>\n",
       "      <th>1</th>\n",
       "      <td>Decision Tree</td>\n",
       "      <td>0.943249</td>\n",
       "      <td>0.260870</td>\n",
       "      <td>0.127660</td>\n",
       "      <td>0.171429</td>\n",
       "      <td>0.589394</td>\n",
       "      <td>0.155661</td>\n",
       "      <td>6</td>\n",
       "      <td>958</td>\n",
       "      <td>17</td>\n",
       "      <td>41</td>\n",
       "    </tr>\n",
       "    <tr>\n",
       "      <th>2</th>\n",
       "      <td>Random Forest</td>\n",
       "      <td>0.951076</td>\n",
       "      <td>0.200000</td>\n",
       "      <td>0.021277</td>\n",
       "      <td>0.038462</td>\n",
       "      <td>0.792679</td>\n",
       "      <td>0.051556</td>\n",
       "      <td>1</td>\n",
       "      <td>971</td>\n",
       "      <td>4</td>\n",
       "      <td>46</td>\n",
       "    </tr>\n",
       "    <tr>\n",
       "      <th>3</th>\n",
       "      <td>Support Vector Machine</td>\n",
       "      <td>0.954012</td>\n",
       "      <td>0.000000</td>\n",
       "      <td>0.000000</td>\n",
       "      <td>0.000000</td>\n",
       "      <td>0.672635</td>\n",
       "      <td>0.000000</td>\n",
       "      <td>0</td>\n",
       "      <td>975</td>\n",
       "      <td>0</td>\n",
       "      <td>47</td>\n",
       "    </tr>\n",
       "    <tr>\n",
       "      <th>4</th>\n",
       "      <td>K-Nearest Neighbors</td>\n",
       "      <td>0.952055</td>\n",
       "      <td>0.250000</td>\n",
       "      <td>0.021277</td>\n",
       "      <td>0.039216</td>\n",
       "      <td>0.712450</td>\n",
       "      <td>0.061054</td>\n",
       "      <td>1</td>\n",
       "      <td>972</td>\n",
       "      <td>3</td>\n",
       "      <td>46</td>\n",
       "    </tr>\n",
       "    <tr>\n",
       "      <th>5</th>\n",
       "      <td>Naive Bayes</td>\n",
       "      <td>0.875734</td>\n",
       "      <td>0.172131</td>\n",
       "      <td>0.446809</td>\n",
       "      <td>0.248521</td>\n",
       "      <td>0.841735</td>\n",
       "      <td>0.221728</td>\n",
       "      <td>21</td>\n",
       "      <td>874</td>\n",
       "      <td>101</td>\n",
       "      <td>26</td>\n",
       "    </tr>\n",
       "    <tr>\n",
       "      <th>6</th>\n",
       "      <td>Neural Network</td>\n",
       "      <td>0.953033</td>\n",
       "      <td>0.000000</td>\n",
       "      <td>0.000000</td>\n",
       "      <td>0.000000</td>\n",
       "      <td>0.830431</td>\n",
       "      <td>-0.006871</td>\n",
       "      <td>0</td>\n",
       "      <td>974</td>\n",
       "      <td>1</td>\n",
       "      <td>47</td>\n",
       "    </tr>\n",
       "    <tr>\n",
       "      <th>7</th>\n",
       "      <td>XGBoost</td>\n",
       "      <td>0.954012</td>\n",
       "      <td>0.000000</td>\n",
       "      <td>0.000000</td>\n",
       "      <td>0.000000</td>\n",
       "      <td>0.822651</td>\n",
       "      <td>0.000000</td>\n",
       "      <td>0</td>\n",
       "      <td>975</td>\n",
       "      <td>0</td>\n",
       "      <td>47</td>\n",
       "    </tr>\n",
       "  </tbody>\n",
       "</table>\n",
       "</div>"
      ],
      "text/plain": [
       "                    Model  Accuracy  Precision    Recall  F1 Score   ROC AUC  \\\n",
       "0     Logistic Regression  0.954012   0.000000  0.000000  0.000000  0.843153   \n",
       "1           Decision Tree  0.943249   0.260870  0.127660  0.171429  0.589394   \n",
       "2           Random Forest  0.951076   0.200000  0.021277  0.038462  0.792679   \n",
       "3  Support Vector Machine  0.954012   0.000000  0.000000  0.000000  0.672635   \n",
       "4     K-Nearest Neighbors  0.952055   0.250000  0.021277  0.039216  0.712450   \n",
       "5             Naive Bayes  0.875734   0.172131  0.446809  0.248521  0.841735   \n",
       "6          Neural Network  0.953033   0.000000  0.000000  0.000000  0.830431   \n",
       "7                 XGBoost  0.954012   0.000000  0.000000  0.000000  0.822651   \n",
       "\n",
       "        MCC  TP   TN   FP  FN  \n",
       "0  0.000000   0  975    0  47  \n",
       "1  0.155661   6  958   17  41  \n",
       "2  0.051556   1  971    4  46  \n",
       "3  0.000000   0  975    0  47  \n",
       "4  0.061054   1  972    3  46  \n",
       "5  0.221728  21  874  101  26  \n",
       "6 -0.006871   0  974    1  47  \n",
       "7  0.000000   0  975    0  47  "
      ]
     },
     "execution_count": 71,
     "metadata": {},
     "output_type": "execute_result"
    }
   ],
   "source": [
    "results_df_params"
   ]
  },
  {
   "cell_type": "markdown",
   "id": "fb35858f",
   "metadata": {},
   "source": [
    "### The assessment of the basic prediction with hyperparameter variation\n",
    "The hyperparameters improved some metrics of the models, but still Naive Bayes seems to be the most acceptable."
   ]
  },
  {
   "cell_type": "code",
   "execution_count": 72,
   "id": "a4e63110",
   "metadata": {},
   "outputs": [
    {
     "data": {
      "text/html": [
       "<div>\n",
       "<style scoped>\n",
       "    .dataframe tbody tr th:only-of-type {\n",
       "        vertical-align: middle;\n",
       "    }\n",
       "\n",
       "    .dataframe tbody tr th {\n",
       "        vertical-align: top;\n",
       "    }\n",
       "\n",
       "    .dataframe thead th {\n",
       "        text-align: right;\n",
       "    }\n",
       "</style>\n",
       "<table border=\"1\" class=\"dataframe\">\n",
       "  <thead>\n",
       "    <tr style=\"text-align: right;\">\n",
       "      <th></th>\n",
       "      <th>Model</th>\n",
       "      <th>Accuracy</th>\n",
       "      <th>Precision</th>\n",
       "      <th>Recall</th>\n",
       "      <th>F1 Score</th>\n",
       "      <th>ROC AUC</th>\n",
       "      <th>MCC</th>\n",
       "      <th>TP</th>\n",
       "      <th>TN</th>\n",
       "      <th>FP</th>\n",
       "      <th>FN</th>\n",
       "    </tr>\n",
       "  </thead>\n",
       "  <tbody>\n",
       "    <tr>\n",
       "      <th>0</th>\n",
       "      <td>Logistic Regression</td>\n",
       "      <td>0.915851</td>\n",
       "      <td>0.208955</td>\n",
       "      <td>0.297872</td>\n",
       "      <td>0.245614</td>\n",
       "      <td>0.791064</td>\n",
       "      <td>0.206080</td>\n",
       "      <td>14</td>\n",
       "      <td>922</td>\n",
       "      <td>53</td>\n",
       "      <td>33</td>\n",
       "    </tr>\n",
       "    <tr>\n",
       "      <th>1</th>\n",
       "      <td>Decision Tree</td>\n",
       "      <td>0.906067</td>\n",
       "      <td>0.134328</td>\n",
       "      <td>0.191489</td>\n",
       "      <td>0.157895</td>\n",
       "      <td>0.578876</td>\n",
       "      <td>0.111710</td>\n",
       "      <td>9</td>\n",
       "      <td>917</td>\n",
       "      <td>58</td>\n",
       "      <td>38</td>\n",
       "    </tr>\n",
       "    <tr>\n",
       "      <th>2</th>\n",
       "      <td>Random Forest</td>\n",
       "      <td>0.921722</td>\n",
       "      <td>0.148936</td>\n",
       "      <td>0.148936</td>\n",
       "      <td>0.148936</td>\n",
       "      <td>0.790104</td>\n",
       "      <td>0.107911</td>\n",
       "      <td>7</td>\n",
       "      <td>935</td>\n",
       "      <td>40</td>\n",
       "      <td>40</td>\n",
       "    </tr>\n",
       "    <tr>\n",
       "      <th>3</th>\n",
       "      <td>Support Vector Machine</td>\n",
       "      <td>0.901174</td>\n",
       "      <td>0.206522</td>\n",
       "      <td>0.404255</td>\n",
       "      <td>0.273381</td>\n",
       "      <td>0.784561</td>\n",
       "      <td>0.241056</td>\n",
       "      <td>19</td>\n",
       "      <td>902</td>\n",
       "      <td>73</td>\n",
       "      <td>28</td>\n",
       "    </tr>\n",
       "    <tr>\n",
       "      <th>4</th>\n",
       "      <td>K-Nearest Neighbors</td>\n",
       "      <td>0.896282</td>\n",
       "      <td>0.126582</td>\n",
       "      <td>0.212766</td>\n",
       "      <td>0.158730</td>\n",
       "      <td>0.672460</td>\n",
       "      <td>0.111368</td>\n",
       "      <td>10</td>\n",
       "      <td>906</td>\n",
       "      <td>69</td>\n",
       "      <td>37</td>\n",
       "    </tr>\n",
       "    <tr>\n",
       "      <th>5</th>\n",
       "      <td>Naive Bayes</td>\n",
       "      <td>0.825832</td>\n",
       "      <td>0.142077</td>\n",
       "      <td>0.553191</td>\n",
       "      <td>0.226087</td>\n",
       "      <td>0.815941</td>\n",
       "      <td>0.214247</td>\n",
       "      <td>26</td>\n",
       "      <td>818</td>\n",
       "      <td>157</td>\n",
       "      <td>21</td>\n",
       "    </tr>\n",
       "    <tr>\n",
       "      <th>6</th>\n",
       "      <td>Neural Network</td>\n",
       "      <td>0.906067</td>\n",
       "      <td>0.154930</td>\n",
       "      <td>0.234043</td>\n",
       "      <td>0.186441</td>\n",
       "      <td>0.778189</td>\n",
       "      <td>0.142112</td>\n",
       "      <td>11</td>\n",
       "      <td>915</td>\n",
       "      <td>60</td>\n",
       "      <td>36</td>\n",
       "    </tr>\n",
       "    <tr>\n",
       "      <th>7</th>\n",
       "      <td>XGBoost</td>\n",
       "      <td>0.928571</td>\n",
       "      <td>0.138889</td>\n",
       "      <td>0.106383</td>\n",
       "      <td>0.120482</td>\n",
       "      <td>0.744670</td>\n",
       "      <td>0.084748</td>\n",
       "      <td>5</td>\n",
       "      <td>944</td>\n",
       "      <td>31</td>\n",
       "      <td>42</td>\n",
       "    </tr>\n",
       "  </tbody>\n",
       "</table>\n",
       "</div>"
      ],
      "text/plain": [
       "                    Model  Accuracy  Precision    Recall  F1 Score   ROC AUC  \\\n",
       "0     Logistic Regression  0.915851   0.208955  0.297872  0.245614  0.791064   \n",
       "1           Decision Tree  0.906067   0.134328  0.191489  0.157895  0.578876   \n",
       "2           Random Forest  0.921722   0.148936  0.148936  0.148936  0.790104   \n",
       "3  Support Vector Machine  0.901174   0.206522  0.404255  0.273381  0.784561   \n",
       "4     K-Nearest Neighbors  0.896282   0.126582  0.212766  0.158730  0.672460   \n",
       "5             Naive Bayes  0.825832   0.142077  0.553191  0.226087  0.815941   \n",
       "6          Neural Network  0.906067   0.154930  0.234043  0.186441  0.778189   \n",
       "7                 XGBoost  0.928571   0.138889  0.106383  0.120482  0.744670   \n",
       "\n",
       "        MCC  TP   TN   FP  FN  \n",
       "0  0.206080  14  922   53  33  \n",
       "1  0.111710   9  917   58  38  \n",
       "2  0.107911   7  935   40  40  \n",
       "3  0.241056  19  902   73  28  \n",
       "4  0.111368  10  906   69  37  \n",
       "5  0.214247  26  818  157  21  \n",
       "6  0.142112  11  915   60  36  \n",
       "7  0.084748   5  944   31  42  "
      ]
     },
     "execution_count": 72,
     "metadata": {},
     "output_type": "execute_result"
    }
   ],
   "source": [
    "results_df_smote"
   ]
  },
  {
   "cell_type": "markdown",
   "id": "62466000",
   "metadata": {},
   "source": [
    "### The assessment of the prediction with SMOTE\n",
    "With the addition of artificial data, we can say that the Naive Bayes does not look so high priority. The others also show a relatively good prediction ability. Their metrics are changing time to time according to amount of test data that's why it cannot be surely said which model is the better. But definitely SMOTE helps to achieve better results."
   ]
  },
  {
   "cell_type": "markdown",
   "id": "47602de5",
   "metadata": {},
   "source": [
    "### Conclusion:\n",
    "1.\tIn this project, different attributes contributing to a stroke attack were explored and it is interesting that none of them has a strong correlation with risk of getting a stroke. The main insight from data is that older patient will be more likely to suffer a stroke than a younger patient will. In addition, people have the same likelihood to have a stroke in spite of patient’s gender, their residence or his/her marriage status.\n",
    "2.\tFor the modeling the more efficient in predicting was Naïve Bayes but not so accurate. The data provided was unbalanced that is why models had poor performance. SMOTE helped to outperform baseline model therefore  it can be mentioned that a more equally distributed data will help improve metrics of models in further analysis of stroke attacks"
   ]
  },
  {
   "cell_type": "code",
   "execution_count": null,
   "id": "b198a5e8",
   "metadata": {},
   "outputs": [],
   "source": []
  }
 ],
 "metadata": {
  "kernelspec": {
   "display_name": "Python 3 (ipykernel)",
   "language": "python",
   "name": "python3"
  },
  "language_info": {
   "codemirror_mode": {
    "name": "ipython",
    "version": 3
   },
   "file_extension": ".py",
   "mimetype": "text/x-python",
   "name": "python",
   "nbconvert_exporter": "python",
   "pygments_lexer": "ipython3",
   "version": "3.9.13"
  }
 },
 "nbformat": 4,
 "nbformat_minor": 5
}
